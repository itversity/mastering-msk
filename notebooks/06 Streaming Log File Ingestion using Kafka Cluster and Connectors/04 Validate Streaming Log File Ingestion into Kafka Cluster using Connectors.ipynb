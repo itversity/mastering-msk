{
 "cells": [
  {
   "cell_type": "markdown",
   "metadata": {},
   "source": [
    "Here are the steps to validate the end to end streaming log file ingestion using Kafka Cluster and Connectors.\n",
    "\n",
    "* Make sure the logs are being generated using the gen_logs application on the EC2 Instance where Kafka Client and File source connector are setup.\n",
    "* Start the file source connector to produce data into Kafka topic **retail_logs**.\n",
    "* Confirm whether the data is being consumed by connector and being written to s3 Bucket.\n",
    "* Review the latest logs to see any exceptions.\n",
    "* Review the data to see how data is being written into s3."
   ]
  },
  {
   "cell_type": "markdown",
   "metadata": {},
   "source": []
  }
 ],
 "metadata": {
  "language_info": {
   "name": "python"
  },
  "orig_nbformat": 4
 },
 "nbformat": 4,
 "nbformat_minor": 2
}
