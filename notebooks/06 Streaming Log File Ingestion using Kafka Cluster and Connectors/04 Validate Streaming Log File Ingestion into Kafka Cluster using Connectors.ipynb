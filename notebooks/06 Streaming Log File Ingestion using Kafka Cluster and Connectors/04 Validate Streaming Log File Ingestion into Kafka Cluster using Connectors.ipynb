{
 "cells": [
  {
   "cell_type": "markdown",
   "metadata": {},
   "source": [
    "Here are the steps to validate the end to end streaming log file ingestion using Kafka Cluster and Connectors.\n",
    "\n",
    "* Make sure the logs are being generated using the gen_logs application on the EC2 Instance where Kafka Client and File source connector are setup.\n",
    "* Start the file source connector to produce data into Kafka topic **retail_logs**.\n",
    "* Confirm whether the data is being consumed by connector and being written to s3 Bucket.\n",
    "* Review the latest logs to see any exceptions.\n",
    "* Review the data to see how data is being written into s3."
   ]
  },
  {
   "cell_type": "markdown",
   "metadata": {},
   "source": []
  }
 ],
 "metadata": {
  "kernelspec": {
   "display_name": "Python 3.7.10 64-bit",
   "language": "python",
   "name": "python3"
  },
  "language_info": {
   "name": "python",
   "version": "3.7.10"
  },
  "orig_nbformat": 4,
  "vscode": {
   "interpreter": {
    "hash": "31f2aee4e71d21fbe5cf8b01ff0e069b9275f58929596ceb00d14d90e3e16cd6"
   }
  }
 },
 "nbformat": 4,
 "nbformat_minor": 2
}
