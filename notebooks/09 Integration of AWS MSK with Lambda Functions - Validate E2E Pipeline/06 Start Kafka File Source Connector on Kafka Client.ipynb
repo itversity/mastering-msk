{
 "cells": [
  {
   "cell_type": "code",
   "execution_count": null,
   "metadata": {},
   "outputs": [],
   "source": [
    "%env BS=b-1.retailcluster.zczsey.c22.kafka.us-east-1.amazonaws.com:9092,b-2.retailcluster.zczsey.c22.kafka.us-east-1.amazonaws.com:9092"
   ]
  },
  {
   "cell_type": "code",
   "execution_count": null,
   "metadata": {},
   "outputs": [],
   "source": [
    "!/opt/kafka/bin/kafka-topics.sh \\\n",
    "    --bootstrap-server $BS \\\n",
    "    --delete \\\n",
    "    --topic retail_logs"
   ]
  },
  {
   "cell_type": "code",
   "execution_count": null,
   "metadata": {},
   "outputs": [],
   "source": [
    "!/opt/kafka/bin/kafka-topics.sh \\\n",
    "    --bootstrap-server $BS \\\n",
    "    --create \\\n",
    "    --topic retail_logs \\\n",
    "    --partitions 2 \\\n",
    "    --replication-factor 2"
   ]
  },
  {
   "cell_type": "code",
   "execution_count": null,
   "metadata": {},
   "outputs": [],
   "source": [
    "!/opt/kafka/bin/kafka-topics.sh \\\n",
    "    --bootstrap-server $BS \\\n",
    "    --describe \\\n",
    "    --topic retail_logs"
   ]
  },
  {
   "cell_type": "markdown",
   "metadata": {},
   "source": [
    "Here is the command which is supposed to be used to start the File Source connector.\n",
    "\n",
    "```\n",
    "nohup /opt/kafka_2.12-2.8.1/bin/connect-standalone.sh \\\n",
    "    retail-standalone.properties \\\n",
    "    retail-file-source.properties &\n",
    "```\n",
    "\n",
    "You can validate whether the messages are being produced into Kafka Topic or not by File Source Connector using the following command.\n",
    "\n",
    "```shell\n",
    "export BS=b-1.retailcluster.zczsey.c22.kafka.us-east-1.amazonaws.com:9092,b-2.retailcluster.zczsey.c22.kafka.us-east-1.amazonaws.com:9092\n",
    "/opt/kafka/bin/kafka-console-consumer.sh \\\n",
    "    --bootstrap-server $BS \\\n",
    "    --topic retail_logs\n",
    "```"
   ]
  },
  {
   "cell_type": "code",
   "execution_count": null,
   "metadata": {},
   "outputs": [],
   "source": []
  }
 ],
 "metadata": {
  "kernelspec": {
   "display_name": "Python 3.7.10 64-bit",
   "language": "python",
   "name": "python3"
  },
  "language_info": {
   "codemirror_mode": {
    "name": "ipython",
    "version": 3
   },
   "file_extension": ".py",
   "mimetype": "text/x-python",
   "name": "python",
   "nbconvert_exporter": "python",
   "pygments_lexer": "ipython3",
   "version": "3.7.10"
  },
  "orig_nbformat": 4,
  "vscode": {
   "interpreter": {
    "hash": "31f2aee4e71d21fbe5cf8b01ff0e069b9275f58929596ceb00d14d90e3e16cd6"
   }
  }
 },
 "nbformat": 4,
 "nbformat_minor": 2
}
