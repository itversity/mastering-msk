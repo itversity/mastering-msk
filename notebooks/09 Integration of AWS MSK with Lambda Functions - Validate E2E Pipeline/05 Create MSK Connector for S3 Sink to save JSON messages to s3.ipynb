{
 "cells": [
  {
   "cell_type": "markdown",
   "metadata": {},
   "source": [
    "Here are the configuration settings used to start AWS MSK Connector to consume data from Kafka Topic and write to s3 as is (JSON records in a file).\n",
    "\n",
    "```shell\n",
    "connector.class=io.confluent.connect.s3.S3SinkConnector\n",
    "s3.region=us-east-1\n",
    "flush.size=120\n",
    "schema.compatibility=NONE\n",
    "tasks.max=1\n",
    "topics=retail_logs\n",
    "format.class=io.confluent.connect.s3.format.bytearray.ByteArrayFormat\n",
    "partitioner.class=io.confluent.connect.storage.partitioner.DefaultPartitioner\n",
    "value.converter=org.apache.kafka.connect.converters.ByteArrayConverter\n",
    "storage.class=io.confluent.connect.s3.storage.S3Storage\n",
    "s3.bucket.name=airetail\n",
    "key.converter=org.apache.kafka.connect.converters.ByteArrayConverter\n",
    "```"
   ]
  },
  {
   "cell_type": "markdown",
   "metadata": {},
   "source": []
  }
 ],
 "metadata": {
  "kernelspec": {
   "display_name": "Python 3.7.10 64-bit",
   "language": "python",
   "name": "python3"
  },
  "language_info": {
   "name": "python",
   "version": "3.7.10"
  },
  "orig_nbformat": 4,
  "vscode": {
   "interpreter": {
    "hash": "31f2aee4e71d21fbe5cf8b01ff0e069b9275f58929596ceb00d14d90e3e16cd6"
   }
  }
 },
 "nbformat": 4,
 "nbformat_minor": 2
}
