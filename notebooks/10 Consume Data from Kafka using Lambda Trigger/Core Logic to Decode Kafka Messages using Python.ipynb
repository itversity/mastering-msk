{
 "cells": [
  {
   "cell_type": "code",
   "execution_count": 1,
   "metadata": {},
   "outputs": [],
   "source": [
    "import base64"
   ]
  },
  {
   "cell_type": "code",
   "execution_count": 2,
   "metadata": {},
   "outputs": [],
   "source": [
    "import json"
   ]
  },
  {
   "cell_type": "code",
   "execution_count": 3,
   "metadata": {},
   "outputs": [],
   "source": [
    "events = json.load(open('events.json'))"
   ]
  },
  {
   "cell_type": "code",
   "execution_count": 8,
   "metadata": {},
   "outputs": [],
   "source": [
    "messages = events['records']['retail_logs-0']"
   ]
  },
  {
   "cell_type": "code",
   "execution_count": 10,
   "metadata": {},
   "outputs": [
    {
     "data": {
      "text/plain": [
       "{'topic': 'retail_logs',\n",
       " 'partition': 0,\n",
       " 'offset': 9566,\n",
       " 'timestamp': 1660036380579,\n",
       " 'timestampType': 'CREATE_TIME',\n",
       " 'value': 'eyJpcCI6ICIxNDkuMjUuMjAwLjE4OCIsICJkYXRlIjogIjIwMjItMDgtMDkgMDk6MTI6NTkuNzk1OTYwIiwgInJlcXVlc3QiOiAiL2RlcGFydG1lbnQvZml0bmVzcy9jYXRlZ29yaWVzIiwgInJlc3BfY29kZSI6IDIwMCwgInJlc3Bfc2l6ZSI6IDg2OSwgInVhIjogIk1vemlsbGEvNS4wIChXaW5kb3dzIE5UIDYuMTsgV09XNjQpIEFwcGxlV2ViS2l0LzUzNy4zNiAoS0hUTUwsIGxpa2UgR2Vja28pIENocm9tZS8zNS4wLjE5MTYuMTUzIFNhZmFyaS81MzcuMzYifQ==',\n",
       " 'headers': []}"
      ]
     },
     "execution_count": 10,
     "metadata": {},
     "output_type": "execute_result"
    }
   ],
   "source": [
    "messages[0]"
   ]
  },
  {
   "cell_type": "code",
   "execution_count": 15,
   "metadata": {},
   "outputs": [],
   "source": [
    "messages_decoded = [base64.b64decode(message['value']) for message in messages]"
   ]
  },
  {
   "cell_type": "code",
   "execution_count": 18,
   "metadata": {},
   "outputs": [
    {
     "data": {
      "text/plain": [
       "'{\"ip\": \"149.25.200.188\", \"date\": \"2022-08-09 09:12:59.795960\", \"request\": \"/department/fitness/categories\", \"resp_code\": 200, \"resp_size\": 869, \"ua\": \"Mozilla/5.0 (Windows NT 6.1; WOW64) AppleWebKit/537.36 (KHTML, like Gecko) Chrome/35.0.1916.153 Safari/537.36\"}'"
      ]
     },
     "execution_count": 18,
     "metadata": {},
     "output_type": "execute_result"
    }
   ],
   "source": [
    "messages_decoded[0].decode('utf-8')"
   ]
  },
  {
   "cell_type": "code",
   "execution_count": 17,
   "metadata": {},
   "outputs": [
    {
     "name": "stdout",
     "output_type": "stream",
     "text": [
      "\u001b[0;31mSignature:\u001b[0m \u001b[0mbase64\u001b[0m\u001b[0;34m.\u001b[0m\u001b[0mstandard_b64decode\u001b[0m\u001b[0;34m(\u001b[0m\u001b[0ms\u001b[0m\u001b[0;34m)\u001b[0m\u001b[0;34m\u001b[0m\u001b[0;34m\u001b[0m\u001b[0m\n",
      "\u001b[0;31mDocstring:\u001b[0m\n",
      "Decode bytes encoded with the standard Base64 alphabet.\n",
      "\n",
      "Argument s is a bytes-like object or ASCII string to decode.  The result\n",
      "is returned as a bytes object.  A binascii.Error is raised if the input\n",
      "is incorrectly padded.  Characters that are not in the standard alphabet\n",
      "are discarded prior to the padding check.\n",
      "\u001b[0;31mFile:\u001b[0m      /usr/lib64/python3.7/base64.py\n",
      "\u001b[0;31mType:\u001b[0m      function\n"
     ]
    }
   ],
   "source": [
    "base64.standard_b64decode?"
   ]
  },
  {
   "cell_type": "code",
   "execution_count": null,
   "metadata": {},
   "outputs": [],
   "source": []
  }
 ],
 "metadata": {
  "kernelspec": {
   "display_name": "Python 3.7.10 64-bit",
   "language": "python",
   "name": "python3"
  },
  "language_info": {
   "codemirror_mode": {
    "name": "ipython",
    "version": 3
   },
   "file_extension": ".py",
   "mimetype": "text/x-python",
   "name": "python",
   "nbconvert_exporter": "python",
   "pygments_lexer": "ipython3",
   "version": "3.7.10"
  },
  "orig_nbformat": 4,
  "vscode": {
   "interpreter": {
    "hash": "31f2aee4e71d21fbe5cf8b01ff0e069b9275f58929596ceb00d14d90e3e16cd6"
   }
  }
 },
 "nbformat": 4,
 "nbformat_minor": 2
}
