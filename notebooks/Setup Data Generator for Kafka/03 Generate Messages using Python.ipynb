{
 "cells": [
  {
   "cell_type": "code",
   "execution_count": 10,
   "metadata": {},
   "outputs": [],
   "source": [
    "courses = [\n",
    "    'AWS Essentials for Data Engineers',\n",
    "    'Mastering AWS Data Analytics for Data Engineers', \n",
    "    'Mastering AWS Elastic Map Reduce for Data Engineers',\n",
    "    'Mastering AWS Redshift for Data Engineers',\n",
    "    'Mastering AWS Managed Service of Kafka for Data Engineers',\n",
    "    'Mastering AWS Databricks for Data Engineers',\n",
    "    'Mastering Azure Databricks for Data Engineers'\n",
    "]"
   ]
  },
  {
   "cell_type": "code",
   "execution_count": 11,
   "metadata": {},
   "outputs": [],
   "source": [
    "email_domains = [\n",
    "    'gmail.com',\n",
    "    'outlook.com'\n",
    "]"
   ]
  },
  {
   "cell_type": "code",
   "execution_count": 12,
   "metadata": {},
   "outputs": [
    {
     "name": "stdout",
     "output_type": "stream",
     "text": [
      "['outlook.com']\n",
      "['gmail.com']\n",
      "['gmail.com']\n",
      "['gmail.com']\n",
      "['outlook.com']\n",
      "['gmail.com']\n",
      "['outlook.com']\n",
      "['outlook.com']\n",
      "['gmail.com']\n",
      "['gmail.com']\n"
     ]
    }
   ],
   "source": [
    "import random\n",
    "  \n",
    "for i in range(10):\n",
    "    randomList = random.choices(\n",
    "        email_domains, weights=(80, 20), k=1\n",
    "    )\n",
    "    \n",
    "    print(randomList)"
   ]
  },
  {
   "cell_type": "code",
   "execution_count": 13,
   "metadata": {},
   "outputs": [],
   "source": [
    "import names"
   ]
  },
  {
   "cell_type": "code",
   "execution_count": 14,
   "metadata": {},
   "outputs": [
    {
     "name": "stdout",
     "output_type": "stream",
     "text": [
      "Michelle\n",
      "Joseph\n",
      "Brittany\n",
      "Eric\n",
      "Robert\n",
      "John\n",
      "Louis\n",
      "Ronald\n",
      "Crystal\n",
      "Leah\n"
     ]
    }
   ],
   "source": [
    "for i in range(10):\n",
    "    print(names.get_first_name())"
   ]
  },
  {
   "cell_type": "code",
   "execution_count": 15,
   "metadata": {},
   "outputs": [],
   "source": [
    "def get_email_id(first_name, last_name):\n",
    "    email_domains = [\n",
    "        'gmail.com',\n",
    "        'outlook.com'\n",
    "    ]\n",
    "    email_domain = random.choices(\n",
    "        email_domains, weights=(80, 20), k=1\n",
    "    )[0]\n",
    "    return f'{first_name[0]}{last_name}@{email_domain}'.lower()"
   ]
  },
  {
   "cell_type": "code",
   "execution_count": 16,
   "metadata": {},
   "outputs": [],
   "source": [
    "import uuid"
   ]
  },
  {
   "cell_type": "code",
   "execution_count": 17,
   "metadata": {},
   "outputs": [
    {
     "data": {
      "text/plain": [
       "'2022-07-25 12:16:39.086795'"
      ]
     },
     "execution_count": 17,
     "metadata": {},
     "output_type": "execute_result"
    }
   ],
   "source": [
    "from datetime import datetime as dt\n",
    "str(dt.now())"
   ]
  },
  {
   "cell_type": "code",
   "execution_count": 18,
   "metadata": {},
   "outputs": [
    {
     "name": "stdout",
     "output_type": "stream",
     "text": [
      "[{'id': '89527704-0be5-11ed-8185-3e22fbd03f7b', 'first_name': 'Mary', 'last_name': 'Baker', 'email': 'mbaker@outlook.com', 'last_updated_ts': '2022-07-25 12:16:39.765302'}, {'id': '8952a58a-0be5-11ed-8185-3e22fbd03f7b', 'first_name': 'Orlando', 'last_name': 'Bennett', 'email': 'obennett@gmail.com', 'last_updated_ts': '2022-07-25 12:16:39.766488'}, {'id': '8952ac24-0be5-11ed-8185-3e22fbd03f7b', 'first_name': 'Lawrence', 'last_name': 'Moore', 'email': 'lmoore@gmail.com', 'last_updated_ts': '2022-07-25 12:16:39.766652'}, {'id': '8952d316-0be5-11ed-8185-3e22fbd03f7b', 'first_name': 'Bill', 'last_name': 'Napier', 'email': 'bnapier@gmail.com', 'last_updated_ts': '2022-07-25 12:16:39.767653'}, {'id': '89534e86-0be5-11ed-8185-3e22fbd03f7b', 'first_name': 'Susanna', 'last_name': 'Harney', 'email': 'sharney@gmail.com', 'last_updated_ts': '2022-07-25 12:16:39.770823'}, {'id': '8954f6be-0be5-11ed-8185-3e22fbd03f7b', 'first_name': 'Dale', 'last_name': 'Mcginness', 'email': 'dmcginness@gmail.com', 'last_updated_ts': '2022-07-25 12:16:39.781696'}, {'id': '8955c2e2-0be5-11ed-8185-3e22fbd03f7b', 'first_name': 'Ramona', 'last_name': 'Marshal', 'email': 'rmarshal@outlook.com', 'last_updated_ts': '2022-07-25 12:16:39.786915'}, {'id': '8955cddc-0be5-11ed-8185-3e22fbd03f7b', 'first_name': 'Patricia', 'last_name': 'Mccoy', 'email': 'pmccoy@outlook.com', 'last_updated_ts': '2022-07-25 12:16:39.787177'}, {'id': '8955d386-0be5-11ed-8185-3e22fbd03f7b', 'first_name': 'Keith', 'last_name': 'Taylor', 'email': 'ktaylor@outlook.com', 'last_updated_ts': '2022-07-25 12:16:39.787317'}, {'id': '895626ba-0be5-11ed-8185-3e22fbd03f7b', 'first_name': 'Berniece', 'last_name': 'Comstock', 'email': 'bcomstock@gmail.com', 'last_updated_ts': '2022-07-25 12:16:39.789462'}]\n"
     ]
    }
   ],
   "source": [
    "leads = []\n",
    "for i in range(10):\n",
    "    first_name = names.get_first_name()\n",
    "    last_name = names.get_last_name()\n",
    "    lead = {\n",
    "        'id': str(uuid.uuid1()),\n",
    "        'first_name': first_name,\n",
    "        'last_name': last_name,\n",
    "        'email': get_email_id(first_name, last_name),\n",
    "        'last_updated_ts': str(dt.now())\n",
    "    }\n",
    "    leads.append(lead)\n",
    "print(leads)"
   ]
  },
  {
   "cell_type": "code",
   "execution_count": null,
   "metadata": {},
   "outputs": [],
   "source": []
  }
 ],
 "metadata": {
  "kernelspec": {
   "display_name": "Python 3.9.12 ('mm-venv': venv)",
   "language": "python",
   "name": "python3"
  },
  "language_info": {
   "codemirror_mode": {
    "name": "ipython",
    "version": 3
   },
   "file_extension": ".py",
   "mimetype": "text/x-python",
   "name": "python",
   "nbconvert_exporter": "python",
   "pygments_lexer": "ipython3",
   "version": "3.9.12"
  },
  "orig_nbformat": 4,
  "vscode": {
   "interpreter": {
    "hash": "3cf41ee24d6f91796e49f757951e7656c8d58d55e947e59bbc56eeadc985852d"
   }
  }
 },
 "nbformat": 4,
 "nbformat_minor": 2
}
