{
 "cells": [
  {
   "cell_type": "code",
   "execution_count": 1,
   "metadata": {},
   "outputs": [
    {
     "name": "stdout",
     "output_type": "stream",
     "text": [
      "Hello World\n"
     ]
    }
   ],
   "source": [
    "print('Hello World')"
   ]
  },
  {
   "cell_type": "code",
   "execution_count": 2,
   "metadata": {},
   "outputs": [
    {
     "name": "stdout",
     "output_type": "stream",
     "text": [
      "total 0\n",
      "-rw-r--r-- 1 dgadiraju dgadiraju 0 Jul 31 23:45 '06 Setup Kafka on Windows using WSL Ubuntu.ipynb'\n"
     ]
    }
   ],
   "source": [
    "!ls -ltr"
   ]
  },
  {
   "cell_type": "code",
   "execution_count": 3,
   "metadata": {},
   "outputs": [
    {
     "name": "stdout",
     "output_type": "stream",
     "text": [
      "--2022-08-01 00:12:20--  https://dlcdn.apache.org/kafka/3.2.0/kafka_2.12-3.2.0.tgz\n",
      "Resolving dlcdn.apache.org (dlcdn.apache.org)... 151.101.2.132, 2a04:4e42::644\n",
      "Connecting to dlcdn.apache.org (dlcdn.apache.org)|151.101.2.132|:443... connected.\n",
      "HTTP request sent, awaiting response... 200 OK\n",
      "Length: 104000785 (99M) [application/x-gzip]\n",
      "Saving to: ‘/home/dgadiraju/kafka_2.12-3.2.0.tgz’\n",
      "\n",
      "/home/dgadiraju/kaf 100%[===================>]  99.18M  31.0MB/s    in 3.2s    \n",
      "\n",
      "2022-08-01 00:12:28 (30.8 MB/s) - ‘/home/dgadiraju/kafka_2.12-3.2.0.tgz’ saved [104000785/104000785]\n",
      "\n"
     ]
    }
   ],
   "source": [
    "!wget https://dlcdn.apache.org/kafka/3.2.0/kafka_2.12-3.2.0.tgz -O ~/kafka_2.12-3.2.0.tgz"
   ]
  },
  {
   "cell_type": "code",
   "execution_count": 5,
   "metadata": {},
   "outputs": [
    {
     "name": "stdout",
     "output_type": "stream",
     "text": [
      "total 0\n"
     ]
    }
   ],
   "source": [
    "!ls -ltr /opt"
   ]
  },
  {
   "cell_type": "markdown",
   "metadata": {},
   "source": [
    "Run these commands using terminal as these might prompt for the password.\n",
    "\n",
    "```shell\n",
    "sudo tar xzf /home/dgadiraju/kafka_2.12-3.2.0.tgz -C /opt\n",
    "```"
   ]
  },
  {
   "cell_type": "code",
   "execution_count": null,
   "metadata": {},
   "outputs": [],
   "source": []
  }
 ],
 "metadata": {
  "kernelspec": {
   "display_name": "Python 3.9.13 ('mm-venv': venv)",
   "language": "python",
   "name": "python3"
  },
  "language_info": {
   "codemirror_mode": {
    "name": "ipython",
    "version": 3
   },
   "file_extension": ".py",
   "mimetype": "text/x-python",
   "name": "python",
   "nbconvert_exporter": "python",
   "pygments_lexer": "ipython3",
   "version": "3.9.13"
  },
  "orig_nbformat": 4,
  "vscode": {
   "interpreter": {
    "hash": "8459f5e24e0bac22f6ed3cdf19e766b8c891be412274cfa01ce8543b59cdc2d8"
   }
  }
 },
 "nbformat": 4,
 "nbformat_minor": 2
}
