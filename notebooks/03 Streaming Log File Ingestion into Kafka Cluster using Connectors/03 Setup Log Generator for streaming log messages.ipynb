{
 "cells": [
  {
   "cell_type": "code",
   "execution_count": 1,
   "metadata": {},
   "outputs": [
    {
     "name": "stdout",
     "output_type": "stream",
     "text": [
      "Cloning into '/home/ec2-user/gen-logs-python3'...\n",
      "remote: Enumerating objects: 33, done.\u001b[K\n",
      "remote: Counting objects: 100% (13/13), done.\u001b[K\n",
      "remote: Compressing objects: 100% (7/7), done.\u001b[K\n",
      "remote: Total 33 (delta 2), reused 13 (delta 2), pack-reused 20\u001b[K\n",
      "Receiving objects: 100% (33/33), 11.43 KiB | 11.43 MiB/s, done.\n",
      "Resolving deltas: 100% (3/3), done.\n"
     ]
    }
   ],
   "source": [
    "!git clone https://github.com/itversity/gen-logs-python3 ~/gen-logs-python3"
   ]
  },
  {
   "cell_type": "code",
   "execution_count": 2,
   "metadata": {},
   "outputs": [
    {
     "name": "stdout",
     "output_type": "stream",
     "text": [
      "total 4\n",
      "-rw-rw-r-- 1 ec2-user ec2-user 783 Jul 29 06:29 README.md\n",
      "drwxrwxr-x 5 ec2-user ec2-user 102 Jul 29 06:29 gen_logs\n"
     ]
    }
   ],
   "source": [
    "!ls -ltr ~/gen-logs-python3"
   ]
  },
  {
   "cell_type": "code",
   "execution_count": 3,
   "metadata": {},
   "outputs": [],
   "source": [
    "!sudo mv -f ~/gen-logs-python3/gen_logs /opt"
   ]
  },
  {
   "cell_type": "code",
   "execution_count": 6,
   "metadata": {},
   "outputs": [
    {
     "name": "stdout",
     "output_type": "stream",
     "text": [
      "total 12\n",
      "-rwxrwxr-x 1 ec2-user ec2-user  51 Jul 29 06:29 tail_logs.sh\n",
      "-rwxrwxr-x 1 ec2-user ec2-user 131 Jul 29 06:29 stop_logs.sh\n",
      "-rwxrwxr-x 1 ec2-user ec2-user  76 Jul 29 06:29 start_logs.sh\n",
      "drwxrwxr-x 2 ec2-user ec2-user  24 Jul 29 06:29 logs\n",
      "drwxrwxr-x 2 ec2-user ec2-user  28 Jul 29 06:29 lib\n",
      "drwxrwxr-x 2 ec2-user ec2-user  74 Jul 29 06:29 data\n"
     ]
    }
   ],
   "source": [
    "!ls -ltr /opt/gen_logs"
   ]
  },
  {
   "cell_type": "code",
   "execution_count": 7,
   "metadata": {},
   "outputs": [],
   "source": [
    "!sudo chown -R `whoami` /opt/gen_logs"
   ]
  },
  {
   "cell_type": "markdown",
   "metadata": {},
   "source": [
    "Use terminal and run the below commands to validate whether we are able to generate the logs or not using gen_logs applications.\n",
    "* Run `export PATH=$PATH:/opt/gen_logs`. You can also update the profile file.\n",
    "* Run `start_logs.sh` to start generating web logs\n",
    "* Run `tail_logs.sh` to preview while logs are being generated (Hit ctrl-c to come out)\n",
    "* Run `stop_logs.sh` to stop generating web logs"
   ]
  },
  {
   "cell_type": "markdown",
   "metadata": {},
   "source": []
  }
 ],
 "metadata": {
  "kernelspec": {
   "display_name": "Python 3.7.10 64-bit",
   "language": "python",
   "name": "python3"
  },
  "language_info": {
   "codemirror_mode": {
    "name": "ipython",
    "version": 3
   },
   "file_extension": ".py",
   "mimetype": "text/x-python",
   "name": "python",
   "nbconvert_exporter": "python",
   "pygments_lexer": "ipython3",
   "version": "3.7.10"
  },
  "orig_nbformat": 4,
  "vscode": {
   "interpreter": {
    "hash": "31f2aee4e71d21fbe5cf8b01ff0e069b9275f58929596ceb00d14d90e3e16cd6"
   }
  }
 },
 "nbformat": 4,
 "nbformat_minor": 2
}
