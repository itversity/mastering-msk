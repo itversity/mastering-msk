{
 "cells": [
  {
   "cell_type": "markdown",
   "metadata": {},
   "source": [
    "Here are the instructions to produce Log Messages from File into Kafka Topic using File Connector.\n",
    "* Create a working directory.\n",
    "* Copy required properties files from **/opt/kafka/config**.\n",
    "* Make required changes in the files\n",
    "* Run the connector using standalone. We also have distributed and in production we typically use distributed."
   ]
  },
  {
   "cell_type": "code",
   "execution_count": 2,
   "metadata": {},
   "outputs": [],
   "source": [
    "!mkdir -p retail-file-source"
   ]
  },
  {
   "cell_type": "code",
   "execution_count": 3,
   "metadata": {},
   "outputs": [
    {
     "name": "stdout",
     "output_type": "stream",
     "text": [
      "total 0\n"
     ]
    }
   ],
   "source": [
    "!ls -ltr retail-file-source"
   ]
  },
  {
   "cell_type": "code",
   "execution_count": 4,
   "metadata": {},
   "outputs": [
    {
     "name": "stdout",
     "output_type": "stream",
     "text": [
      "total 72\n",
      "-rw-r--r-- 1 ec2-user ec2-user 1205 May  3 12:52 zookeeper.properties\n",
      "-rw-r--r-- 1 ec2-user ec2-user 1169 May  3 12:52 trogdor.conf\n",
      "-rw-r--r-- 1 ec2-user ec2-user 1032 May  3 12:52 tools-log4j.properties\n",
      "-rw-r--r-- 1 ec2-user ec2-user 6895 May  3 12:52 server.properties\n",
      "-rw-r--r-- 1 ec2-user ec2-user 2065 May  3 12:52 producer.properties\n",
      "-rw-r--r-- 1 ec2-user ec2-user 4674 May  3 12:52 log4j.properties\n",
      "drwxr-xr-x 2 ec2-user ec2-user  102 May  3 12:52 kraft\n",
      "-rw-r--r-- 1 ec2-user ec2-user 1221 May  3 12:52 consumer.properties\n",
      "-rw-r--r-- 1 ec2-user ec2-user 2262 May  3 12:52 connect-standalone.properties\n",
      "-rw-r--r-- 1 ec2-user ec2-user 2540 May  3 12:52 connect-mirror-maker.properties\n",
      "-rw-r--r-- 1 ec2-user ec2-user 2103 May  3 12:52 connect-log4j.properties\n",
      "-rw-r--r-- 1 ec2-user ec2-user  881 May  3 12:52 connect-file-source.properties\n",
      "-rw-r--r-- 1 ec2-user ec2-user  883 May  3 12:52 connect-file-sink.properties\n",
      "-rw-r--r-- 1 ec2-user ec2-user 5475 May  3 12:52 connect-distributed.properties\n",
      "-rw-r--r-- 1 ec2-user ec2-user  909 May  3 12:52 connect-console-source.properties\n",
      "-rw-r--r-- 1 ec2-user ec2-user  906 May  3 12:52 connect-console-sink.properties\n"
     ]
    }
   ],
   "source": [
    "!ls -ltr /opt/kafka/config"
   ]
  },
  {
   "cell_type": "code",
   "execution_count": 5,
   "metadata": {},
   "outputs": [],
   "source": [
    "!cp /opt/kafka/config/connect-standalone.properties retail-file-source"
   ]
  },
  {
   "cell_type": "code",
   "execution_count": 7,
   "metadata": {},
   "outputs": [],
   "source": [
    "!cp /opt/kafka/config/connect-file-source.properties retail-file-source"
   ]
  },
  {
   "cell_type": "code",
   "execution_count": 8,
   "metadata": {},
   "outputs": [
    {
     "name": "stdout",
     "output_type": "stream",
     "text": [
      "total 8\n",
      "-rw-r--r-- 1 ec2-user ec2-user 2262 Jul 31 01:47 connect-standalone.properties\n",
      "-rw-r--r-- 1 ec2-user ec2-user  881 Jul 31 01:49 connect-file-source.properties\n"
     ]
    }
   ],
   "source": [
    "!ls -ltr retail-file-source"
   ]
  },
  {
   "cell_type": "code",
   "execution_count": null,
   "metadata": {},
   "outputs": [],
   "source": []
  }
 ],
 "metadata": {
  "kernelspec": {
   "display_name": "Python 3.8.9 64-bit",
   "language": "python",
   "name": "python3"
  },
  "language_info": {
   "codemirror_mode": {
    "name": "ipython",
    "version": 3
   },
   "file_extension": ".py",
   "mimetype": "text/x-python",
   "name": "python",
   "nbconvert_exporter": "python",
   "pygments_lexer": "ipython3",
   "version": "3.8.9"
  },
  "orig_nbformat": 4,
  "vscode": {
   "interpreter": {
    "hash": "31f2aee4e71d21fbe5cf8b01ff0e069b9275f58929596ceb00d14d90e3e16cd6"
   }
  }
 },
 "nbformat": 4,
 "nbformat_minor": 2
}
