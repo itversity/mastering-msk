{
 "cells": [
  {
   "cell_type": "markdown",
   "metadata": {},
   "source": [
    "As the Kafka Connectors such as s3 connector are provided by Confluent, we need to first download the client to our PC or Mac and then upload to s3 to create Plugin for MSK Connector.\n",
    "* Go to [Amazon S3 Sink Connector](https://www.confluent.io/hub/confluentinc/kafka-connect-s3) Page on Confluent and Download on to PC or Mac.\n",
    "* Make sure the zip file is not uncompressed as we need to use zip file to create plugin.\n",
    "* The zip file should be uploaded to AWS s3. Here are the commands, I have used after downloading the zip file for your reference.\n",
    "\n",
    "```shell\n",
    "cd ~/Downloads\n",
    "zip -r confluentinc-kafka-connect-s3-10.0.11.zip confluentinc-kafka-connect-s3-10.0.11\n",
    "\n",
    "export AWS_PROFILE=analytiqs\n",
    "aws s3 cp confluentinc-kafka-connect-s3-10.0.11.zip \\\n",
    "    s3://airetail/kafka/connectors/confluentinc-kafka-connect-s3-10.0.11.zip\n",
    "\n",
    "aws s3 ls s3://airetail/kafka/connectors/confluentinc-kafka-connect-s3-10.0.11.zip\n",
    "```\n",
    "\n",
    "* After zip file is uploaded to s3, we can create MSK Connector Plugin using AWS Web Console.\n",
    "\n",
    "Before creating MSK Connector using s3 Connector Plugin, we need to take care of adding relevant IAM Service Role with appropriate permissions.\n",
    "* Create IAM Service Role for Kafka Connect with appropriate trust policy. Here is the JSON for your reference.\n",
    "\n",
    "```json\n",
    "{\n",
    "    \"Version\": \"2012-10-17\",\n",
    "    \"Statement\": [\n",
    "        {\n",
    "            \"Effect\": \"Allow\",\n",
    "            \"Principal\": {\n",
    "                \"Service\": \"kafkaconnect.amazonaws.com\"\n",
    "            },\n",
    "            \"Action\": \"sts:AssumeRole\"\n",
    "        }\n",
    "    ]\n",
    "}\n",
    "```\n",
    "\n",
    "* Make sure to grant permissions on AWS s3 by creating inline policy as demonstrated."
   ]
  },
  {
   "cell_type": "code",
   "execution_count": null,
   "metadata": {},
   "outputs": [],
   "source": []
  }
 ],
 "metadata": {
  "kernelspec": {
   "display_name": "Python 3.8.9 64-bit",
   "language": "python",
   "name": "python3"
  },
  "language_info": {
   "codemirror_mode": {
    "name": "ipython",
    "version": 3
   },
   "file_extension": ".py",
   "mimetype": "text/x-python",
   "name": "python",
   "nbconvert_exporter": "python",
   "pygments_lexer": "ipython3",
   "version": "3.7.10"
  },
  "orig_nbformat": 4,
  "vscode": {
   "interpreter": {
    "hash": "31f2aee4e71d21fbe5cf8b01ff0e069b9275f58929596ceb00d14d90e3e16cd6"
   }
  }
 },
 "nbformat": 4,
 "nbformat_minor": 2
}
