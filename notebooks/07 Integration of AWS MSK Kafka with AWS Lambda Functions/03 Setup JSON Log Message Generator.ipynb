{
 "cells": [
  {
   "cell_type": "code",
   "execution_count": 6,
   "metadata": {},
   "outputs": [
    {
     "name": "stdout",
     "output_type": "stream",
     "text": [
      "Cloning into '/home/ec2-user/gen-logs-python3'...\n",
      "remote: Enumerating objects: 50, done.\u001b[K\n",
      "remote: Counting objects: 100% (30/30), done.\u001b[K\n",
      "remote: Compressing objects: 100% (21/21), done.\u001b[K\n",
      "remote: Total 50 (delta 7), reused 19 (delta 2), pack-reused 20\u001b[K\n",
      "Receiving objects: 100% (50/50), 13.83 KiB | 6.91 MiB/s, done.\n",
      "Resolving deltas: 100% (8/8), done.\n"
     ]
    }
   ],
   "source": [
    "!git clone https://github.com/dgadiraju/gen-logs-python3.git /home/ec2-user/gen-logs-python3"
   ]
  },
  {
   "cell_type": "code",
   "execution_count": 7,
   "metadata": {},
   "outputs": [
    {
     "name": "stdout",
     "output_type": "stream",
     "text": [
      "total 4\n",
      "-rw-rw-r-- 1 ec2-user ec2-user 783 Aug  3 23:16 README.md\n",
      "drwxrwxr-x 4 ec2-user ec2-user  90 Aug  3 23:16 gen_logs_json\n",
      "drwxrwxr-x 5 ec2-user ec2-user 102 Aug  3 23:16 gen_logs\n"
     ]
    }
   ],
   "source": [
    "!ls -ltr /home/ec2-user/gen-logs-python3"
   ]
  },
  {
   "cell_type": "code",
   "execution_count": 9,
   "metadata": {},
   "outputs": [],
   "source": [
    "!sudo mv -f ~/gen-logs-python3/gen_logs_json /opt"
   ]
  },
  {
   "cell_type": "code",
   "execution_count": 11,
   "metadata": {},
   "outputs": [],
   "source": [
    "!rm -rf /home/ec2-user/gen-logs-python3"
   ]
  },
  {
   "cell_type": "code",
   "execution_count": 10,
   "metadata": {},
   "outputs": [
    {
     "name": "stdout",
     "output_type": "stream",
     "text": [
      "total 0\n",
      "drwxr-xr-x 2 root     root       6 Aug 16  2018 rh\n",
      "drwxr-xr-x 4 root     root      33 Jun 13 18:53 aws\n",
      "drwxrwxr-x 5 ec2-user ec2-user 102 Jul 29 06:29 gen_logs\n",
      "lrwxrwxrwx 1 root     root      21 Jul 30 00:31 kafka -> /opt/kafka_2.12-3.2.0\n",
      "drwxr-xr-x 8 ec2-user ec2-user 117 Jul 31 07:02 kafka_2.12-3.2.0\n",
      "drwxr-xr-x 8 ec2-user ec2-user 117 Jul 31 07:06 kafka_2.12-2.8.1\n",
      "drwxrwxr-x 4 ec2-user ec2-user  90 Aug  3 23:16 gen_logs_json\n"
     ]
    }
   ],
   "source": [
    "!ls -ltr /opt"
   ]
  },
  {
   "cell_type": "code",
   "execution_count": 26,
   "metadata": {},
   "outputs": [
    {
     "name": "stdout",
     "output_type": "stream",
     "text": [
      "/opt/gen_logs_json\n",
      "/opt/gen_logs_json/data\n",
      "/opt/gen_logs_json/data/categories.json\n",
      "/opt/gen_logs_json/data/departments.json\n",
      "/opt/gen_logs_json/data/products.json\n",
      "/opt/gen_logs_json/lib\n",
      "/opt/gen_logs_json/lib/genhttplogs.py\n",
      "/opt/gen_logs_json/start_logs.sh\n",
      "/opt/gen_logs_json/stop_logs.sh\n",
      "/opt/gen_logs_json/tail_logs.sh\n"
     ]
    }
   ],
   "source": [
    "!find /opt/gen_logs_json"
   ]
  },
  {
   "cell_type": "code",
   "execution_count": 29,
   "metadata": {},
   "outputs": [],
   "source": [
    "!mkdir -p /opt/gen_logs_json/logs"
   ]
  },
  {
   "cell_type": "code",
   "execution_count": 30,
   "metadata": {},
   "outputs": [],
   "source": [
    "!sh /opt/gen_logs_json/start_logs.sh"
   ]
  },
  {
   "cell_type": "code",
   "execution_count": 31,
   "metadata": {},
   "outputs": [
    {
     "name": "stdout",
     "output_type": "stream",
     "text": [
      "/opt/gen_logs_json\n",
      "/opt/gen_logs_json/data\n",
      "/opt/gen_logs_json/data/categories.json\n",
      "/opt/gen_logs_json/data/departments.json\n",
      "/opt/gen_logs_json/data/products.json\n",
      "/opt/gen_logs_json/lib\n",
      "/opt/gen_logs_json/lib/genhttplogs.py\n",
      "/opt/gen_logs_json/start_logs.sh\n",
      "/opt/gen_logs_json/stop_logs.sh\n",
      "/opt/gen_logs_json/tail_logs.sh\n",
      "/opt/gen_logs_json/logs\n",
      "/opt/gen_logs_json/logs/access.log\n"
     ]
    }
   ],
   "source": [
    "!find /opt/gen_logs_json"
   ]
  },
  {
   "cell_type": "code",
   "execution_count": 34,
   "metadata": {},
   "outputs": [
    {
     "name": "stdout",
     "output_type": "stream",
     "text": [
      "-rw-rw-r-- 1 ec2-user ec2-user 19919 Aug  3 23:38 /opt/gen_logs_json/logs/access.log\n"
     ]
    }
   ],
   "source": [
    "!ls -ltr /opt/gen_logs_json/logs/access.log"
   ]
  },
  {
   "cell_type": "code",
   "execution_count": null,
   "metadata": {},
   "outputs": [],
   "source": []
  }
 ],
 "metadata": {
  "kernelspec": {
   "display_name": "Python 3.7.10 64-bit",
   "language": "python",
   "name": "python3"
  },
  "language_info": {
   "codemirror_mode": {
    "name": "ipython",
    "version": 3
   },
   "file_extension": ".py",
   "mimetype": "text/x-python",
   "name": "python",
   "nbconvert_exporter": "python",
   "pygments_lexer": "ipython3",
   "version": "3.7.10"
  },
  "orig_nbformat": 4,
  "vscode": {
   "interpreter": {
    "hash": "31f2aee4e71d21fbe5cf8b01ff0e069b9275f58929596ceb00d14d90e3e16cd6"
   }
  }
 },
 "nbformat": 4,
 "nbformat_minor": 2
}
