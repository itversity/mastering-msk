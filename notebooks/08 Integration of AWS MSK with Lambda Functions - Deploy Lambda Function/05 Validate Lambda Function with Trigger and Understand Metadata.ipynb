{
 "cells": [
  {
   "cell_type": "code",
   "execution_count": 10,
   "metadata": {},
   "outputs": [
    {
     "name": "stdout",
     "output_type": "stream",
     "text": [
      "2022-08-10 00:40:47      29096 topics/retail_logs_backup/partition=0/retail_logs+0+0000011520.bin\n",
      "2022-08-10 00:40:47      29349 topics/retail_logs_backup/partition=0/retail_logs+0+0000011640.bin\n",
      "2022-08-10 00:40:47      29353 topics/retail_logs_backup/partition=0/retail_logs+0+0000011760.bin\n",
      "2022-08-10 00:40:47      29165 topics/retail_logs_backup/partition=0/retail_logs+0+0000011880.bin\n",
      "2022-08-10 00:40:47      29204 topics/retail_logs_backup/partition=0/retail_logs+0+0000012000.bin\n",
      "2022-08-10 00:40:47      29199 topics/retail_logs_backup/partition=0/retail_logs+0+0000012120.bin\n",
      "2022-08-10 00:40:47      29333 topics/retail_logs_backup/partition=0/retail_logs+0+0000012240.bin\n",
      "2022-08-10 00:40:47      29517 topics/retail_logs_backup/partition=0/retail_logs+0+0000012360.bin\n",
      "2022-08-10 00:40:47      29233 topics/retail_logs_backup/partition=0/retail_logs+0+0000012480.bin\n",
      "2022-08-10 00:40:47      29221 topics/retail_logs_backup/partition=0/retail_logs+0+0000012600.bin\n",
      "2022-08-10 00:40:48      28860 topics/retail_logs_backup/partition=0/retail_logs+0+0000012720.bin\n",
      "2022-08-10 00:40:48      29131 topics/retail_logs_backup/partition=0/retail_logs+0+0000012840.bin\n",
      "2022-08-10 00:40:48      29367 topics/retail_logs_backup/partition=0/retail_logs+0+0000012960.bin\n",
      "2022-08-10 00:40:48      29565 topics/retail_logs_backup/partition=0/retail_logs+0+0000013080.bin\n",
      "2022-08-10 00:40:48      29027 topics/retail_logs_backup/partition=0/retail_logs+0+0000013200.bin\n",
      "2022-08-10 00:40:48      29272 topics/retail_logs_backup/partition=0/retail_logs+0+0000013320.bin\n",
      "2022-08-10 00:40:48      29019 topics/retail_logs_backup/partition=0/retail_logs+0+0000013440.bin\n",
      "2022-08-10 00:40:48      29560 topics/retail_logs_backup/partition=0/retail_logs+0+0000013560.bin\n",
      "2022-08-10 00:40:48      29268 topics/retail_logs_backup/partition=0/retail_logs+0+0000013680.bin\n",
      "2022-08-10 00:40:48      29371 topics/retail_logs_backup/partition=0/retail_logs+0+0000013800.bin\n",
      "2022-08-10 00:40:48      29356 topics/retail_logs_backup/partition=0/retail_logs+0+0000013920.bin\n",
      "2022-08-10 00:40:48      29339 topics/retail_logs_backup/partition=0/retail_logs+0+0000014040.bin\n",
      "2022-08-10 00:40:48      29085 topics/retail_logs_backup/partition=0/retail_logs+0+0000014160.bin\n",
      "2022-08-10 00:40:48      28793 topics/retail_logs_backup/partition=0/retail_logs+0+0000014280.bin\n",
      "2022-08-10 00:40:48      29452 topics/retail_logs_backup/partition=0/retail_logs+0+0000014400.bin\n",
      "2022-08-10 00:40:48      28928 topics/retail_logs_backup/partition=0/retail_logs+0+0000014520.bin\n",
      "2022-08-10 00:40:48      29549 topics/retail_logs_backup/partition=0/retail_logs+0+0000014640.bin\n",
      "2022-08-10 00:40:48      29321 topics/retail_logs_backup/partition=0/retail_logs+0+0000014760.bin\n",
      "2022-08-10 00:40:48      29425 topics/retail_logs_backup/partition=0/retail_logs+0+0000014880.bin\n",
      "2022-08-10 00:40:48      28877 topics/retail_logs_backup/partition=0/retail_logs+0+0000015000.bin\n",
      "2022-08-10 00:40:48      29288 topics/retail_logs_backup/partition=0/retail_logs+0+0000015120.bin\n",
      "2022-08-10 00:40:48      29070 topics/retail_logs_backup/partition=0/retail_logs+0+0000015240.bin\n",
      "2022-08-10 00:40:48      29009 topics/retail_logs_backup/partition=0/retail_logs+0+0000015360.bin\n",
      "2022-08-10 00:40:48      29354 topics/retail_logs_backup/partition=0/retail_logs+0+0000015480.bin\n",
      "2022-08-10 00:40:48      29217 topics/retail_logs_backup/partition=0/retail_logs+0+0000015600.bin\n",
      "2022-08-10 00:40:48      29140 topics/retail_logs_backup/partition=0/retail_logs+0+0000015720.bin\n",
      "2022-08-10 00:40:48      29410 topics/retail_logs_backup/partition=0/retail_logs+0+0000015840.bin\n",
      "2022-08-10 00:40:48      29176 topics/retail_logs_backup/partition=0/retail_logs+0+0000015960.bin\n",
      "2022-08-10 00:40:48      28876 topics/retail_logs_backup/partition=0/retail_logs+0+0000016080.bin\n",
      "2022-08-10 00:40:48      29403 topics/retail_logs_backup/partition=0/retail_logs+0+0000016200.bin\n",
      "2022-08-10 00:40:48      29371 topics/retail_logs_backup/partition=0/retail_logs+0+0000016320.bin\n",
      "2022-08-10 00:40:48      29150 topics/retail_logs_backup/partition=0/retail_logs+0+0000016440.bin\n",
      "2022-08-10 00:40:48      28947 topics/retail_logs_backup/partition=0/retail_logs+0+0000016560.bin\n",
      "2022-08-10 00:40:48      29039 topics/retail_logs_backup/partition=0/retail_logs+0+0000016680.bin\n",
      "2022-08-10 00:40:48      29200 topics/retail_logs_backup/partition=0/retail_logs+0+0000016800.bin\n",
      "2022-08-10 00:40:48      29074 topics/retail_logs_backup/partition=0/retail_logs+0+0000016920.bin\n",
      "2022-08-10 00:40:48      28854 topics/retail_logs_backup/partition=0/retail_logs+0+0000017040.bin\n",
      "2022-08-10 00:40:48      29069 topics/retail_logs_backup/partition=0/retail_logs+0+0000017160.bin\n",
      "2022-08-10 00:40:48      29195 topics/retail_logs_backup/partition=0/retail_logs+0+0000017280.bin\n",
      "2022-08-10 00:40:48      28951 topics/retail_logs_backup/partition=0/retail_logs+0+0000017400.bin\n",
      "2022-08-10 00:40:48      28749 topics/retail_logs_backup/partition=0/retail_logs+0+0000017520.bin\n",
      "2022-08-10 00:40:48      29292 topics/retail_logs_backup/partition=0/retail_logs+0+0000017640.bin\n",
      "2022-08-10 00:40:48      29587 topics/retail_logs_backup/partition=0/retail_logs+0+0000017760.bin\n",
      "2022-08-10 00:40:48      29528 topics/retail_logs_backup/partition=0/retail_logs+0+0000017880.bin\n",
      "2022-08-10 00:40:48      29277 topics/retail_logs_backup/partition=0/retail_logs+0+0000018000.bin\n",
      "2022-08-10 00:40:48      29245 topics/retail_logs_backup/partition=0/retail_logs+0+0000018120.bin\n",
      "2022-08-10 00:40:48      29374 topics/retail_logs_backup/partition=0/retail_logs+0+0000018240.bin\n",
      "2022-08-10 00:40:48      29250 topics/retail_logs_backup/partition=0/retail_logs+0+0000018360.bin\n",
      "2022-08-10 00:40:48      28963 topics/retail_logs_backup/partition=0/retail_logs+0+0000018480.bin\n",
      "2022-08-10 00:40:48      29303 topics/retail_logs_backup/partition=0/retail_logs+0+0000018600.bin\n",
      "2022-08-10 00:40:48      29167 topics/retail_logs_backup/partition=0/retail_logs+0+0000018720.bin\n",
      "2022-08-10 00:40:48      29278 topics/retail_logs_backup/partition=0/retail_logs+0+0000018840.bin\n",
      "2022-08-10 00:40:48      28954 topics/retail_logs_backup/partition=0/retail_logs+0+0000018960.bin\n",
      "2022-08-10 00:40:48      29266 topics/retail_logs_backup/partition=0/retail_logs+0+0000019080.bin\n",
      "2022-08-10 00:40:48      29190 topics/retail_logs_backup/partition=0/retail_logs+0+0000019200.bin\n",
      "2022-08-10 00:40:48      29686 topics/retail_logs_backup/partition=0/retail_logs+0+0000019320.bin\n",
      "2022-08-10 00:40:48      29187 topics/retail_logs_backup/partition=0/retail_logs+0+0000019440.bin\n",
      "2022-08-10 00:40:49      29402 topics/retail_logs_backup/partition=0/retail_logs+0+0000019560.bin\n",
      "2022-08-10 00:40:49      29233 topics/retail_logs_backup/partition=0/retail_logs+0+0000019680.bin\n",
      "2022-08-10 00:40:49      29379 topics/retail_logs_backup/partition=0/retail_logs+0+0000019800.bin\n",
      "2022-08-10 00:40:49      29392 topics/retail_logs_backup/partition=0/retail_logs+0+0000019920.bin\n",
      "2022-08-10 00:40:49      28853 topics/retail_logs_backup/partition=0/retail_logs+0+0000020040.bin\n",
      "2022-08-10 00:40:49      29233 topics/retail_logs_backup/partition=1/retail_logs+1+0000011280.bin\n",
      "2022-08-10 00:40:49      28978 topics/retail_logs_backup/partition=1/retail_logs+1+0000011400.bin\n",
      "2022-08-10 00:40:49      29048 topics/retail_logs_backup/partition=1/retail_logs+1+0000011520.bin\n",
      "2022-08-10 00:40:49      29734 topics/retail_logs_backup/partition=1/retail_logs+1+0000011640.bin\n",
      "2022-08-10 00:40:49      29439 topics/retail_logs_backup/partition=1/retail_logs+1+0000011760.bin\n",
      "2022-08-10 00:40:49      29007 topics/retail_logs_backup/partition=1/retail_logs+1+0000011880.bin\n",
      "2022-08-10 00:40:49      29025 topics/retail_logs_backup/partition=1/retail_logs+1+0000012000.bin\n",
      "2022-08-10 00:40:49      29611 topics/retail_logs_backup/partition=1/retail_logs+1+0000012120.bin\n",
      "2022-08-10 00:40:49      29323 topics/retail_logs_backup/partition=1/retail_logs+1+0000012240.bin\n",
      "2022-08-10 00:40:49      30258 topics/retail_logs_backup/partition=1/retail_logs+1+0000012360.bin\n",
      "2022-08-10 00:40:49      29398 topics/retail_logs_backup/partition=1/retail_logs+1+0000012480.bin\n",
      "2022-08-10 00:40:49      28936 topics/retail_logs_backup/partition=1/retail_logs+1+0000012600.bin\n",
      "2022-08-10 00:40:49      29523 topics/retail_logs_backup/partition=1/retail_logs+1+0000012720.bin\n",
      "2022-08-10 00:40:49      29239 topics/retail_logs_backup/partition=1/retail_logs+1+0000012840.bin\n",
      "2022-08-10 00:40:49      29321 topics/retail_logs_backup/partition=1/retail_logs+1+0000012960.bin\n",
      "2022-08-10 00:40:49      29246 topics/retail_logs_backup/partition=1/retail_logs+1+0000013080.bin\n",
      "2022-08-10 00:40:49      29286 topics/retail_logs_backup/partition=1/retail_logs+1+0000013200.bin\n",
      "2022-08-10 00:40:49      29383 topics/retail_logs_backup/partition=1/retail_logs+1+0000013320.bin\n",
      "2022-08-10 00:40:49      29298 topics/retail_logs_backup/partition=1/retail_logs+1+0000013440.bin\n",
      "2022-08-10 00:40:49      28912 topics/retail_logs_backup/partition=1/retail_logs+1+0000013560.bin\n",
      "2022-08-10 00:40:49      29332 topics/retail_logs_backup/partition=1/retail_logs+1+0000013680.bin\n",
      "2022-08-10 00:40:49      29324 topics/retail_logs_backup/partition=1/retail_logs+1+0000013800.bin\n",
      "2022-08-10 00:40:49      29127 topics/retail_logs_backup/partition=1/retail_logs+1+0000013920.bin\n",
      "2022-08-10 00:40:49      29716 topics/retail_logs_backup/partition=1/retail_logs+1+0000014040.bin\n",
      "2022-08-10 00:40:49      29270 topics/retail_logs_backup/partition=1/retail_logs+1+0000014160.bin\n",
      "2022-08-10 00:40:49      29163 topics/retail_logs_backup/partition=1/retail_logs+1+0000014280.bin\n",
      "2022-08-10 00:40:49      29115 topics/retail_logs_backup/partition=1/retail_logs+1+0000014400.bin\n",
      "2022-08-10 00:40:49      29076 topics/retail_logs_backup/partition=1/retail_logs+1+0000014520.bin\n",
      "2022-08-10 00:40:49      29141 topics/retail_logs_backup/partition=1/retail_logs+1+0000014640.bin\n",
      "2022-08-10 00:40:49      29673 topics/retail_logs_backup/partition=1/retail_logs+1+0000014760.bin\n",
      "2022-08-10 00:40:49      29711 topics/retail_logs_backup/partition=1/retail_logs+1+0000014880.bin\n",
      "2022-08-10 00:40:49      29306 topics/retail_logs_backup/partition=1/retail_logs+1+0000015000.bin\n",
      "2022-08-10 00:40:49      29163 topics/retail_logs_backup/partition=1/retail_logs+1+0000015120.bin\n",
      "2022-08-10 00:40:49      29116 topics/retail_logs_backup/partition=1/retail_logs+1+0000015240.bin\n",
      "2022-08-10 00:40:49      28956 topics/retail_logs_backup/partition=1/retail_logs+1+0000015360.bin\n",
      "2022-08-10 00:40:49      29338 topics/retail_logs_backup/partition=1/retail_logs+1+0000015480.bin\n",
      "2022-08-10 00:40:49      29331 topics/retail_logs_backup/partition=1/retail_logs+1+0000015600.bin\n",
      "2022-08-10 00:40:49      29425 topics/retail_logs_backup/partition=1/retail_logs+1+0000015720.bin\n",
      "2022-08-10 00:40:49      28907 topics/retail_logs_backup/partition=1/retail_logs+1+0000015840.bin\n",
      "2022-08-10 00:40:49      28935 topics/retail_logs_backup/partition=1/retail_logs+1+0000015960.bin\n",
      "2022-08-10 00:40:49      29104 topics/retail_logs_backup/partition=1/retail_logs+1+0000016080.bin\n",
      "2022-08-10 00:40:49      29265 topics/retail_logs_backup/partition=1/retail_logs+1+0000016200.bin\n",
      "2022-08-10 00:40:49      29096 topics/retail_logs_backup/partition=1/retail_logs+1+0000016320.bin\n",
      "2022-08-10 00:40:49      29187 topics/retail_logs_backup/partition=1/retail_logs+1+0000016440.bin\n",
      "2022-08-10 00:40:49      29332 topics/retail_logs_backup/partition=1/retail_logs+1+0000016560.bin\n",
      "2022-08-10 00:40:49      29358 topics/retail_logs_backup/partition=1/retail_logs+1+0000016680.bin\n",
      "2022-08-10 00:40:49      29221 topics/retail_logs_backup/partition=1/retail_logs+1+0000016800.bin\n",
      "2022-08-10 00:40:49      29183 topics/retail_logs_backup/partition=1/retail_logs+1+0000016920.bin\n",
      "2022-08-10 00:40:49      29492 topics/retail_logs_backup/partition=1/retail_logs+1+0000017040.bin\n",
      "2022-08-10 00:40:49      28991 topics/retail_logs_backup/partition=1/retail_logs+1+0000017160.bin\n",
      "2022-08-10 00:40:49      28988 topics/retail_logs_backup/partition=1/retail_logs+1+0000017280.bin\n",
      "2022-08-10 00:40:49      29561 topics/retail_logs_backup/partition=1/retail_logs+1+0000017400.bin\n",
      "2022-08-10 00:40:49      29284 topics/retail_logs_backup/partition=1/retail_logs+1+0000017520.bin\n",
      "2022-08-10 00:40:49      29324 topics/retail_logs_backup/partition=1/retail_logs+1+0000017640.bin\n",
      "2022-08-10 00:40:49      28941 topics/retail_logs_backup/partition=1/retail_logs+1+0000017760.bin\n",
      "2022-08-10 00:40:49      29138 topics/retail_logs_backup/partition=1/retail_logs+1+0000017880.bin\n",
      "2022-08-10 00:40:49      29209 topics/retail_logs_backup/partition=1/retail_logs+1+0000018000.bin\n",
      "2022-08-10 00:40:49      29382 topics/retail_logs_backup/partition=1/retail_logs+1+0000018120.bin\n",
      "2022-08-10 00:40:49      28890 topics/retail_logs_backup/partition=1/retail_logs+1+0000018240.bin\n",
      "2022-08-10 00:40:49      29482 topics/retail_logs_backup/partition=1/retail_logs+1+0000018360.bin\n",
      "2022-08-10 00:40:49      29489 topics/retail_logs_backup/partition=1/retail_logs+1+0000018480.bin\n",
      "2022-08-10 00:40:49      29288 topics/retail_logs_backup/partition=1/retail_logs+1+0000018600.bin\n",
      "2022-08-10 00:40:50      29088 topics/retail_logs_backup/partition=1/retail_logs+1+0000018720.bin\n",
      "2022-08-10 00:40:50      29029 topics/retail_logs_backup/partition=1/retail_logs+1+0000018840.bin\n",
      "2022-08-10 00:40:50      29566 topics/retail_logs_backup/partition=1/retail_logs+1+0000018960.bin\n",
      "2022-08-10 00:40:50      29114 topics/retail_logs_backup/partition=1/retail_logs+1+0000019080.bin\n",
      "2022-08-10 00:40:50      29327 topics/retail_logs_backup/partition=1/retail_logs+1+0000019200.bin\n",
      "2022-08-10 00:40:50      29242 topics/retail_logs_backup/partition=1/retail_logs+1+0000019320.bin\n",
      "2022-08-10 00:40:50      29282 topics/retail_logs_backup/partition=1/retail_logs+1+0000019440.bin\n",
      "2022-08-10 00:40:50      29156 topics/retail_logs_backup/partition=1/retail_logs+1+0000019560.bin\n",
      "2022-08-10 00:40:50      29478 topics/retail_logs_backup/partition=1/retail_logs+1+0000019680.bin\n"
     ]
    }
   ],
   "source": [
    "!aws s3 ls s3://airetail/topics/retail_logs_backup/ --recursive"
   ]
  },
  {
   "cell_type": "code",
   "execution_count": 11,
   "metadata": {},
   "outputs": [
    {
     "name": "stdout",
     "output_type": "stream",
     "text": [
      "2022-08-10 00:40:47      29096 retail_logs+0+0000011520.bin\n"
     ]
    }
   ],
   "source": [
    "!aws s3 ls s3://airetail/topics/retail_logs_backup/partition=0/retail_logs+0+0000011520.bin"
   ]
  },
  {
   "cell_type": "code",
   "execution_count": 12,
   "metadata": {},
   "outputs": [
    {
     "name": "stdout",
     "output_type": "stream",
     "text": [
      "2022-08-11 00:33:15      29096 retail_logs+0+0000011520.bin\n"
     ]
    }
   ],
   "source": [
    "!aws s3 ls s3://airetail/topics/retail_logs/partition=0/retail_logs+0+0000011520.bin"
   ]
  },
  {
   "cell_type": "code",
   "execution_count": 13,
   "metadata": {},
   "outputs": [
    {
     "name": "stdout",
     "output_type": "stream",
     "text": [
      "delete: s3://airetail/topics/retail_logs/partition=0/retail_logs+0+0000011520.bin\n"
     ]
    }
   ],
   "source": [
    "!aws s3 rm s3://airetail/topics/retail_logs/partition=0/retail_logs+0+0000011520.bin"
   ]
  },
  {
   "cell_type": "code",
   "execution_count": 14,
   "metadata": {},
   "outputs": [],
   "source": [
    "import boto3"
   ]
  },
  {
   "cell_type": "code",
   "execution_count": 15,
   "metadata": {},
   "outputs": [],
   "source": [
    "s3_client = boto3.client('s3')"
   ]
  },
  {
   "cell_type": "code",
   "execution_count": 16,
   "metadata": {},
   "outputs": [],
   "source": [
    "object_body = s3_client.get_object(\n",
    "    Bucket='airetail',\n",
    "    Key='topics/retail_logs_backup/partition=0/retail_logs+0+0000011520.bin'\n",
    ")['Body'].read()"
   ]
  },
  {
   "cell_type": "code",
   "execution_count": null,
   "metadata": {},
   "outputs": [],
   "source": [
    "type(object_body)"
   ]
  },
  {
   "cell_type": "code",
   "execution_count": 17,
   "metadata": {},
   "outputs": [
    {
     "data": {
      "text/plain": [
       "{'ResponseMetadata': {'RequestId': 'GTTPWQ1T4NC2ZW2J',\n",
       "  'HostId': 'QFz1+qmzU3ASiNxSLcHZpl+XLccKj2nF7DoRYnT8D6NR8YLMgGKruasAJeIEXX21cdQnmBZrQ2s=',\n",
       "  'HTTPStatusCode': 200,\n",
       "  'HTTPHeaders': {'x-amz-id-2': 'QFz1+qmzU3ASiNxSLcHZpl+XLccKj2nF7DoRYnT8D6NR8YLMgGKruasAJeIEXX21cdQnmBZrQ2s=',\n",
       "   'x-amz-request-id': 'GTTPWQ1T4NC2ZW2J',\n",
       "   'date': 'Fri, 12 Aug 2022 04:10:40 GMT',\n",
       "   'etag': '\"d7bc9a1bbbc7b5e3b2f6147714977163\"',\n",
       "   'server': 'AmazonS3',\n",
       "   'content-length': '0'},\n",
       "  'RetryAttempts': 0},\n",
       " 'ETag': '\"d7bc9a1bbbc7b5e3b2f6147714977163\"'}"
      ]
     },
     "execution_count": 17,
     "metadata": {},
     "output_type": "execute_result"
    }
   ],
   "source": [
    "s3_client.put_object(\n",
    "    Body=object_body,\n",
    "    Bucket='airetail',\n",
    "    Key='topics/retail_logs/partition=0/retail_logs+0+0000011520.bin'\n",
    ")"
   ]
  },
  {
   "cell_type": "code",
   "execution_count": 18,
   "metadata": {},
   "outputs": [
    {
     "name": "stdout",
     "output_type": "stream",
     "text": [
      "2022-08-12 04:10:40      29096 retail_logs+0+0000011520.bin\n"
     ]
    }
   ],
   "source": [
    "!aws s3 ls s3://airetail/topics/retail_logs/partition=0/retail_logs+0+0000011520.bin"
   ]
  },
  {
   "cell_type": "code",
   "execution_count": null,
   "metadata": {},
   "outputs": [],
   "source": [
    "event = {'Records': [{\n",
    "    'eventVersion': '2.1',\n",
    "    'eventSource': 'aws:s3',\n",
    "    'awsRegion': 'us-east-1', \n",
    "    'eventTime': '2022-08-11T00:33:14.202Z', \n",
    "    'eventName': 'ObjectCreated:Put', \n",
    "    'userIdentity': {'principalId': 'AWS:AROAT5JM5TVWOT5MFQ7BR:i-0df8a4df2ad8e9431'}, \n",
    "    'requestParameters': {'sourceIPAddress': '172.31.70.113'}, \n",
    "    'responseElements': {\n",
    "        'x-amz-request-id': '7A2N3SVCY4R06CRN', \n",
    "        'x-amz-id-2': 'H9R6puA73y162SIC5/V9KQeotIO/uiFb3BDguGeubPXTz0TeI+Hr5m2G9i3kpGQNqoNNPuuGChrXjfLnkSSCmHlw1sLdnzi2'\n",
    "    },\n",
    "    's3': {\n",
    "        's3SchemaVersion': '1.0', \n",
    "        'configurationId': '391bf491-efb4-4bda-9b59-ecd7994f06c2', \n",
    "        'bucket': {\n",
    "            'name': 'airetail', \n",
    "            'ownerIdentity': {'principalId': 'A1X8UFY0XE0RRV'}, \n",
    "            'arn': 'arn:aws:s3:::airetail'}, \n",
    "            'object': {\n",
    "                'key': 'topics/retail_logs/partition%3D0/retail_logs%2B0%2B0000011520.bin', \n",
    "                'size': 29096, \n",
    "                'eTag': 'd7bc9a1bbbc7b5e3b2f6147714977163', 'sequencer': '0062F44E4A217EEC37'\n",
    "            }\n",
    "        }\n",
    "    }\n",
    "]}\n"
   ]
  },
  {
   "cell_type": "code",
   "execution_count": null,
   "metadata": {},
   "outputs": [],
   "source": [
    "type(event['Records'])"
   ]
  },
  {
   "cell_type": "code",
   "execution_count": null,
   "metadata": {},
   "outputs": [],
   "source": [
    "event['Records'][0]['s3']['bucket']['name']"
   ]
  },
  {
   "cell_type": "code",
   "execution_count": null,
   "metadata": {},
   "outputs": [],
   "source": [
    "event['Records'][0]['s3']['object']['key']"
   ]
  },
  {
   "cell_type": "code",
   "execution_count": null,
   "metadata": {},
   "outputs": [],
   "source": [
    "import urllib"
   ]
  },
  {
   "cell_type": "code",
   "execution_count": null,
   "metadata": {},
   "outputs": [],
   "source": [
    "urllib.parse.unquote(event['Records'][0]['s3']['object']['key'])"
   ]
  },
  {
   "cell_type": "code",
   "execution_count": null,
   "metadata": {},
   "outputs": [],
   "source": [
    "s3_client.get_object(\n",
    "    Bucket=event['Records'][0]['s3']['bucket']['name'],\n",
    "    Key=urllib.parse.unquote(event['Records'][0]['s3']['object']['key'])\n",
    ")['Body'].read()"
   ]
  },
  {
   "cell_type": "code",
   "execution_count": null,
   "metadata": {},
   "outputs": [],
   "source": [
    "event = {'Records': [{\n",
    "    'eventVersion': '2.1',\n",
    "    'eventSource': 'aws:s3',\n",
    "    'awsRegion': 'us-east-1', \n",
    "    'eventTime': '2022-08-11T00:33:14.202Z', \n",
    "    'eventName': 'ObjectCreated:Put', \n",
    "    'userIdentity': {'principalId': 'AWS:AROAT5JM5TVWOT5MFQ7BR:i-0df8a4df2ad8e9431'}, \n",
    "    'requestParameters': {'sourceIPAddress': '172.31.70.113'}, \n",
    "    'responseElements': {\n",
    "        'x-amz-request-id': '7A2N3SVCY4R06CRN', \n",
    "        'x-amz-id-2': 'H9R6puA73y162SIC5/V9KQeotIO/uiFb3BDguGeubPXTz0TeI+Hr5m2G9i3kpGQNqoNNPuuGChrXjfLnkSSCmHlw1sLdnzi2'\n",
    "    },\n",
    "    's3': {\n",
    "        's3SchemaVersion': '1.0', \n",
    "        'configurationId': '391bf491-efb4-4bda-9b59-ecd7994f06c2', \n",
    "        'bucket': {\n",
    "            'name': 'airetail', \n",
    "            'ownerIdentity': {'principalId': 'A1X8UFY0XE0RRV'}, \n",
    "            'arn': 'arn:aws:s3:::airetail'}, \n",
    "            'object': {\n",
    "                'key': 'topics/retail_logs/partition%3D0/retail_logs%2B0%2B0000011520.bin', \n",
    "                'size': 29096, \n",
    "                'eTag': 'd7bc9a1bbbc7b5e3b2f6147714977163', 'sequencer': '0062F44E4A217EEC37'\n",
    "            }\n",
    "        }\n",
    "    }\n",
    "]}\n"
   ]
  },
  {
   "cell_type": "code",
   "execution_count": null,
   "metadata": {},
   "outputs": [],
   "source": [
    "type(event)"
   ]
  },
  {
   "cell_type": "code",
   "execution_count": null,
   "metadata": {},
   "outputs": [],
   "source": [
    "import json"
   ]
  },
  {
   "cell_type": "code",
   "execution_count": null,
   "metadata": {},
   "outputs": [],
   "source": [
    "json.dumps(event)"
   ]
  },
  {
   "cell_type": "code",
   "execution_count": null,
   "metadata": {},
   "outputs": [],
   "source": []
  }
 ],
 "metadata": {
  "kernelspec": {
   "display_name": "Python 3.7.10 64-bit",
   "language": "python",
   "name": "python3"
  },
  "language_info": {
   "codemirror_mode": {
    "name": "ipython",
    "version": 3
   },
   "file_extension": ".py",
   "mimetype": "text/x-python",
   "name": "python",
   "nbconvert_exporter": "python",
   "pygments_lexer": "ipython3",
   "version": "3.7.10"
  },
  "orig_nbformat": 4,
  "vscode": {
   "interpreter": {
    "hash": "31f2aee4e71d21fbe5cf8b01ff0e069b9275f58929596ceb00d14d90e3e16cd6"
   }
  }
 },
 "nbformat": 4,
 "nbformat_minor": 2
}
