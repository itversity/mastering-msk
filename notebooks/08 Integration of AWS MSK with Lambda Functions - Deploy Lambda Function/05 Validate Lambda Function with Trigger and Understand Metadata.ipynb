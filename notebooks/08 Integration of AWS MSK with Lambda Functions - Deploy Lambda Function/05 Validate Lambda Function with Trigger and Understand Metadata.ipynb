{
 "cells": [
  {
   "cell_type": "code",
   "execution_count": null,
   "metadata": {},
   "outputs": [],
   "source": [
    "!aws s3 ls s3://airetail/topics/retail_logs_backup/ --recursive"
   ]
  },
  {
   "cell_type": "code",
   "execution_count": null,
   "metadata": {},
   "outputs": [],
   "source": [
    "!aws s3 ls s3://airetail/topics/retail_logs_backup/partition=0/retail_logs+0+0000011520.bin"
   ]
  },
  {
   "cell_type": "code",
   "execution_count": null,
   "metadata": {},
   "outputs": [],
   "source": [
    "!aws s3 ls s3://airetail/topics/retail_logs/partition=0/retail_logs+0+0000011520.bin"
   ]
  },
  {
   "cell_type": "code",
   "execution_count": null,
   "metadata": {},
   "outputs": [],
   "source": [
    "import boto3"
   ]
  },
  {
   "cell_type": "code",
   "execution_count": null,
   "metadata": {},
   "outputs": [],
   "source": [
    "s3_client = boto3.client('s3')"
   ]
  },
  {
   "cell_type": "code",
   "execution_count": null,
   "metadata": {},
   "outputs": [],
   "source": [
    "object_body = s3_client.get_object(\n",
    "    Bucket='airetail',\n",
    "    Key='topics/retail_logs_backup/partition=0/retail_logs+0+0000011520.bin'\n",
    ")['Body'].read()"
   ]
  },
  {
   "cell_type": "code",
   "execution_count": null,
   "metadata": {},
   "outputs": [],
   "source": [
    "type(object_body)"
   ]
  },
  {
   "cell_type": "code",
   "execution_count": null,
   "metadata": {},
   "outputs": [],
   "source": [
    "s3_client.put_object(\n",
    "    Body=object_body,\n",
    "    Bucket='airetail',\n",
    "    Key='topics/retail_logs/partition=0/retail_logs+0+0000011520.bin'\n",
    ")"
   ]
  },
  {
   "cell_type": "code",
   "execution_count": null,
   "metadata": {},
   "outputs": [],
   "source": [
    "!aws s3 ls s3://airetail/topics/retail_logs/partition=0/retail_logs+0+0000011520.bin"
   ]
  },
  {
   "cell_type": "code",
   "execution_count": null,
   "metadata": {},
   "outputs": [],
   "source": [
    "event = {'Records': [{\n",
    "    'eventVersion': '2.1',\n",
    "    'eventSource': 'aws:s3',\n",
    "    'awsRegion': 'us-east-1', \n",
    "    'eventTime': '2022-08-11T00:33:14.202Z', \n",
    "    'eventName': 'ObjectCreated:Put', \n",
    "    'userIdentity': {'principalId': 'AWS:AROAT5JM5TVWOT5MFQ7BR:i-0df8a4df2ad8e9431'}, \n",
    "    'requestParameters': {'sourceIPAddress': '172.31.70.113'}, \n",
    "    'responseElements': {\n",
    "        'x-amz-request-id': '7A2N3SVCY4R06CRN', \n",
    "        'x-amz-id-2': 'H9R6puA73y162SIC5/V9KQeotIO/uiFb3BDguGeubPXTz0TeI+Hr5m2G9i3kpGQNqoNNPuuGChrXjfLnkSSCmHlw1sLdnzi2'\n",
    "    },\n",
    "    's3': {\n",
    "        's3SchemaVersion': '1.0', \n",
    "        'configurationId': '391bf491-efb4-4bda-9b59-ecd7994f06c2', \n",
    "        'bucket': {\n",
    "            'name': 'airetail', \n",
    "            'ownerIdentity': {'principalId': 'A1X8UFY0XE0RRV'}, \n",
    "            'arn': 'arn:aws:s3:::airetail'}, \n",
    "            'object': {\n",
    "                'key': 'topics/retail_logs/partition%3D0/retail_logs%2B0%2B0000011520.bin', \n",
    "                'size': 29096, \n",
    "                'eTag': 'd7bc9a1bbbc7b5e3b2f6147714977163', 'sequencer': '0062F44E4A217EEC37'\n",
    "            }\n",
    "        }\n",
    "    }\n",
    "]}\n"
   ]
  },
  {
   "cell_type": "code",
   "execution_count": null,
   "metadata": {},
   "outputs": [],
   "source": [
    "type(event['Records'])"
   ]
  },
  {
   "cell_type": "code",
   "execution_count": null,
   "metadata": {},
   "outputs": [],
   "source": [
    "event['Records'][0]['s3']['bucket']['name']"
   ]
  },
  {
   "cell_type": "code",
   "execution_count": null,
   "metadata": {},
   "outputs": [],
   "source": [
    "event['Records'][0]['s3']['object']['key']"
   ]
  },
  {
   "cell_type": "code",
   "execution_count": null,
   "metadata": {},
   "outputs": [],
   "source": [
    "import urllib"
   ]
  },
  {
   "cell_type": "code",
   "execution_count": null,
   "metadata": {},
   "outputs": [],
   "source": [
    "urllib.parse.unquote(event['Records'][0]['s3']['object']['key'])"
   ]
  },
  {
   "cell_type": "code",
   "execution_count": null,
   "metadata": {},
   "outputs": [],
   "source": [
    "s3_client.get_object(\n",
    "    Bucket=event['Records'][0]['s3']['bucket']['name'],\n",
    "    Key=urllib.parse.unquote(event['Records'][0]['s3']['object']['key'])\n",
    ")['Body'].read()"
   ]
  },
  {
   "cell_type": "code",
   "execution_count": null,
   "metadata": {},
   "outputs": [],
   "source": [
    "event = {'Records': [{\n",
    "    'eventVersion': '2.1',\n",
    "    'eventSource': 'aws:s3',\n",
    "    'awsRegion': 'us-east-1', \n",
    "    'eventTime': '2022-08-11T00:33:14.202Z', \n",
    "    'eventName': 'ObjectCreated:Put', \n",
    "    'userIdentity': {'principalId': 'AWS:AROAT5JM5TVWOT5MFQ7BR:i-0df8a4df2ad8e9431'}, \n",
    "    'requestParameters': {'sourceIPAddress': '172.31.70.113'}, \n",
    "    'responseElements': {\n",
    "        'x-amz-request-id': '7A2N3SVCY4R06CRN', \n",
    "        'x-amz-id-2': 'H9R6puA73y162SIC5/V9KQeotIO/uiFb3BDguGeubPXTz0TeI+Hr5m2G9i3kpGQNqoNNPuuGChrXjfLnkSSCmHlw1sLdnzi2'\n",
    "    },\n",
    "    's3': {\n",
    "        's3SchemaVersion': '1.0', \n",
    "        'configurationId': '391bf491-efb4-4bda-9b59-ecd7994f06c2', \n",
    "        'bucket': {\n",
    "            'name': 'airetail', \n",
    "            'ownerIdentity': {'principalId': 'A1X8UFY0XE0RRV'}, \n",
    "            'arn': 'arn:aws:s3:::airetail'}, \n",
    "            'object': {\n",
    "                'key': 'topics/retail_logs/partition%3D0/retail_logs%2B0%2B0000011520.bin', \n",
    "                'size': 29096, \n",
    "                'eTag': 'd7bc9a1bbbc7b5e3b2f6147714977163', 'sequencer': '0062F44E4A217EEC37'\n",
    "            }\n",
    "        }\n",
    "    }\n",
    "]}\n"
   ]
  },
  {
   "cell_type": "code",
   "execution_count": null,
   "metadata": {},
   "outputs": [],
   "source": [
    "type(event)"
   ]
  },
  {
   "cell_type": "code",
   "execution_count": null,
   "metadata": {},
   "outputs": [],
   "source": [
    "import json"
   ]
  },
  {
   "cell_type": "code",
   "execution_count": null,
   "metadata": {},
   "outputs": [],
   "source": [
    "json.dumps(event)"
   ]
  },
  {
   "cell_type": "code",
   "execution_count": null,
   "metadata": {},
   "outputs": [],
   "source": []
  }
 ],
 "metadata": {
  "kernelspec": {
   "display_name": "Python 3.7.10 64-bit",
   "language": "python",
   "name": "python3"
  },
  "language_info": {
   "codemirror_mode": {
    "name": "ipython",
    "version": 3
   },
   "file_extension": ".py",
   "mimetype": "text/x-python",
   "name": "python",
   "nbconvert_exporter": "python",
   "pygments_lexer": "ipython3",
   "version": "3.7.10"
  },
  "orig_nbformat": 4,
  "vscode": {
   "interpreter": {
    "hash": "31f2aee4e71d21fbe5cf8b01ff0e069b9275f58929596ceb00d14d90e3e16cd6"
   }
  }
 },
 "nbformat": 4,
 "nbformat_minor": 2
}
