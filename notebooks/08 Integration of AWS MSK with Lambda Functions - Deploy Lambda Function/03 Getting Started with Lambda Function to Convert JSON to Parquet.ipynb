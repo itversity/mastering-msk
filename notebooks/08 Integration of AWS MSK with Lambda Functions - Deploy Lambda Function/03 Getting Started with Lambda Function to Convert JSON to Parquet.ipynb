{
 "cells": [
  {
   "cell_type": "markdown",
   "metadata": {},
   "source": [
    "Let us make sure we create the Lambda Function using the below code as demonstrated and validate to see if it is running fine. Also, once the Lambda Function is created, make sure to add trigger.\n",
    "\n",
    "```python\n",
    "import json\n",
    "\n",
    "def lambda_handler(event, context):\n",
    "    print(event)\n",
    "    return {\n",
    "        'statusCode': 200,\n",
    "        'body': json.dumps('Hello from Lambda!')\n",
    "    }\n",
    "```"
   ]
  }
 ],
 "metadata": {
  "language_info": {
   "name": "python"
  },
  "orig_nbformat": 4
 },
 "nbformat": 4,
 "nbformat_minor": 2
}
