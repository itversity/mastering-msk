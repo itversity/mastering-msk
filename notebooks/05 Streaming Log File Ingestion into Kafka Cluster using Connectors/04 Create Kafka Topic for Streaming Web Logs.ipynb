{
 "cells": [
  {
   "cell_type": "code",
   "execution_count": 1,
   "metadata": {},
   "outputs": [
    {
     "name": "stdout",
     "output_type": "stream",
     "text": [
      "env: BS=b-2.retailcluster.871o9a.c22.kafka.us-east-1.amazonaws.com:9092,b-1.retailcluster.871o9a.c22.kafka.us-east-1.amazonaws.com:9092\n"
     ]
    }
   ],
   "source": [
    "%env BS=b-2.retailcluster.871o9a.c22.kafka.us-east-1.amazonaws.com:9092,b-1.retailcluster.871o9a.c22.kafka.us-east-1.amazonaws.com:9092"
   ]
  },
  {
   "cell_type": "code",
   "execution_count": 2,
   "metadata": {},
   "outputs": [],
   "source": [
    "!/opt/kafka/bin/kafka-topics.sh \\\n",
    "    --bootstrap-server $BS \\\n",
    "    --delete \\\n",
    "    --topic retail_logs"
   ]
  },
  {
   "cell_type": "code",
   "execution_count": 3,
   "metadata": {},
   "outputs": [
    {
     "name": "stdout",
     "output_type": "stream",
     "text": [
      "\n"
     ]
    }
   ],
   "source": [
    "!/opt/kafka/bin/kafka-topics.sh \\\n",
    "    --bootstrap-server $BS \\\n",
    "    --list \\\n",
    "    --topic retail_logs"
   ]
  },
  {
   "cell_type": "code",
   "execution_count": 4,
   "metadata": {},
   "outputs": [
    {
     "name": "stdout",
     "output_type": "stream",
     "text": [
      "WARNING: Due to limitations in metric names, topics with a period ('.') or underscore ('_') could collide. To avoid issues it is best to use either, but not both.\n",
      "Created topic retail_logs.\n"
     ]
    }
   ],
   "source": [
    "!/opt/kafka/bin/kafka-topics.sh \\\n",
    "    --bootstrap-server $BS \\\n",
    "    --create \\\n",
    "    --topic retail_logs \\\n",
    "    --partitions 2 \\\n",
    "    --replication-factor 2"
   ]
  },
  {
   "cell_type": "code",
   "execution_count": 5,
   "metadata": {},
   "outputs": [
    {
     "name": "stdout",
     "output_type": "stream",
     "text": [
      "retail_logs\n"
     ]
    }
   ],
   "source": [
    "!/opt/kafka/bin/kafka-topics.sh \\\n",
    "    --bootstrap-server $BS \\\n",
    "    --list \\\n",
    "    --topic retail_logs"
   ]
  },
  {
   "cell_type": "code",
   "execution_count": 7,
   "metadata": {},
   "outputs": [
    {
     "name": "stdout",
     "output_type": "stream",
     "text": [
      "Topic: retail_logs\tTopicId: zGdIeMwuSU6JGW3ZJNzXSw\tPartitionCount: 2\tReplicationFactor: 2\tConfigs: min.insync.replicas=2,message.format.version=3.0-IV1,unclean.leader.election.enable=true\n",
      "\tTopic: retail_logs\tPartition: 0\tLeader: 2\tReplicas: 2,1\tIsr: 2,1\n",
      "\tTopic: retail_logs\tPartition: 1\tLeader: 1\tReplicas: 1,2\tIsr: 1,2\n"
     ]
    }
   ],
   "source": [
    "!/opt/kafka/bin/kafka-topics.sh \\\n",
    "    --bootstrap-server $BS \\\n",
    "    --describe \\\n",
    "    --topic retail_logs"
   ]
  },
  {
   "cell_type": "markdown",
   "metadata": {},
   "source": [
    "Producing Messages using `kafka-console-producer`. We will use Terminal for the demo to understand how to produce messages into the Kafka Topic.\n",
    "\n",
    "```shell\n",
    "tail_logs.sh|/opt/kafka/bin/kafka-console-producer.sh \\\n",
    "    --bootstrap-server $BS \\\n",
    "    --topic retail_logs\n",
    "```"
   ]
  },
  {
   "cell_type": "markdown",
   "metadata": {},
   "source": [
    "Consuming Messages using `kafka-console-producer`. We will use Terminal for the demo to understand how to consume messages from the Kafka Topic.\n",
    "\n",
    "```shell\n",
    "/opt/kafka/bin/kafka-console-consumer.sh \\\n",
    "    --bootstrap-server $BS \\\n",
    "    --topic retail_logs \\\n",
    "    --from-beginning\n",
    "```"
   ]
  },
  {
   "cell_type": "markdown",
   "metadata": {},
   "source": []
  }
 ],
 "metadata": {
  "kernelspec": {
   "display_name": "Python 3.7.10 64-bit",
   "language": "python",
   "name": "python3"
  },
  "language_info": {
   "codemirror_mode": {
    "name": "ipython",
    "version": 3
   },
   "file_extension": ".py",
   "mimetype": "text/x-python",
   "name": "python",
   "nbconvert_exporter": "python",
   "pygments_lexer": "ipython3",
   "version": "3.7.10"
  },
  "orig_nbformat": 4,
  "vscode": {
   "interpreter": {
    "hash": "31f2aee4e71d21fbe5cf8b01ff0e069b9275f58929596ceb00d14d90e3e16cd6"
   }
  }
 },
 "nbformat": 4,
 "nbformat_minor": 2
}
