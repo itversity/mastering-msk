{
 "cells": [
  {
   "cell_type": "markdown",
   "metadata": {},
   "source": [
    "Let us go through the details related to upgrading Kafka Client on existing AWS EC2 Instance for Serverless Kafka setup using AWS Managed Service for Kafka (MSK). As of now we have deleted Serverless Kafka Cluster and created provisioned Kafka Cluster with Version 3.2.0. It is highly recommended to upgrade the client as well.\n",
    "\n",
    "We need to ensure Java 11 is already setup, and then Kafka Client. As we have setup Java 11 already while configuring client to Serverless Kafka Cluster, we can proceed to setting up Kafka Client with 3.2.0 Version.\n",
    "\n",
    "Once Kafka Client is setup we need to validate whether EC2 Instance can act as Kafka Client to the Provisioned Kafka Cluster."
   ]
  },
  {
   "cell_type": "code",
   "execution_count": 1,
   "metadata": {},
   "outputs": [
    {
     "name": "stdout",
     "output_type": "stream",
     "text": [
      "--2022-07-30 00:23:30--  https://archive.apache.org/dist/kafka/3.2.0/kafka_2.12-3.2.0.tgz\n",
      "Resolving archive.apache.org (archive.apache.org)... 138.201.131.134, 2a01:4f8:172:2ec5::2\n",
      "Connecting to archive.apache.org (archive.apache.org)|138.201.131.134|:443... connected.\n",
      "HTTP request sent, awaiting response... 200 OK\n",
      "Length: 104000785 (99M) [application/x-gzip]\n",
      "Saving to: ‘/home/ec2-user/kafka_2.12-3.2.0.tgz’\n",
      "\n",
      "100%[======================================>] 104,000,785 14.4MB/s   in 7.7s   \n",
      "\n",
      "2022-07-30 00:23:38 (12.9 MB/s) - ‘/home/ec2-user/kafka_2.12-3.2.0.tgz’ saved [104000785/104000785]\n",
      "\n"
     ]
    }
   ],
   "source": [
    "!wget https://archive.apache.org/dist/kafka/3.2.0/kafka_2.12-3.2.0.tgz \\\n",
    "    -O /home/ec2-user/kafka_2.12-3.2.0.tgz"
   ]
  },
  {
   "cell_type": "code",
   "execution_count": 3,
   "metadata": {},
   "outputs": [
    {
     "name": "stdout",
     "output_type": "stream",
     "text": [
      "total 101564\n",
      "-rw-rw-r-- 1 ec2-user ec2-user 104000785 May 10 07:42 kafka_2.12-3.2.0.tgz\n",
      "drwxrwxr-x 4 ec2-user ec2-user        66 Jul 29 01:07 mastering-msk\n",
      "drwxrwxr-x 3 ec2-user ec2-user        35 Jul 29 06:30 gen-logs-python3\n"
     ]
    }
   ],
   "source": [
    "!ls -ltr /home/ec2-user"
   ]
  },
  {
   "cell_type": "code",
   "execution_count": 4,
   "metadata": {},
   "outputs": [],
   "source": [
    "!sudo tar xzf ~/kafka_2.12-3.2.0.tgz -C /opt"
   ]
  },
  {
   "cell_type": "code",
   "execution_count": 5,
   "metadata": {},
   "outputs": [
    {
     "name": "stdout",
     "output_type": "stream",
     "text": [
      "total 0\n",
      "drwxr-xr-x 2 root     root       6 Aug 16  2018 rh\n",
      "drwxr-xr-x 7 ec2-user ec2-user 105 Sep 14  2021 kafka_2.12-2.8.1\n",
      "drwxr-xr-x 7 root     root     105 May  3 12:56 kafka_2.12-3.2.0\n",
      "drwxr-xr-x 4 root     root      33 Jun 13 18:53 aws\n",
      "lrwxrwxrwx 1 root     root      21 Jul 28 01:07 kafka -> /opt/kafka_2.12-2.8.1\n",
      "drwxrwxr-x 5 ec2-user ec2-user 102 Jul 29 06:29 gen_logs\n"
     ]
    }
   ],
   "source": [
    "!ls -ltr /opt"
   ]
  },
  {
   "cell_type": "code",
   "execution_count": 6,
   "metadata": {},
   "outputs": [],
   "source": [
    "!sudo chown -R $USER:$USER /opt/kafka_2.12-3.2.0"
   ]
  },
  {
   "cell_type": "code",
   "execution_count": 11,
   "metadata": {},
   "outputs": [],
   "source": [
    "!sudo unlink /opt/kafka"
   ]
  },
  {
   "cell_type": "code",
   "execution_count": 12,
   "metadata": {},
   "outputs": [],
   "source": [
    "!sudo ln -s /opt/kafka_2.12-3.2.0 /opt/kafka"
   ]
  },
  {
   "cell_type": "code",
   "execution_count": 1,
   "metadata": {},
   "outputs": [
    {
     "name": "stdout",
     "output_type": "stream",
     "text": [
      "env: BS=b-2.retailcluster.871o9a.c22.kafka.us-east-1.amazonaws.com:9092,b-1.retailcluster.871o9a.c22.kafka.us-east-1.amazonaws.com:9092\n"
     ]
    }
   ],
   "source": [
    "%env BS=b-2.retailcluster.871o9a.c22.kafka.us-east-1.amazonaws.com:9092,b-1.retailcluster.871o9a.c22.kafka.us-east-1.amazonaws.com:9092"
   ]
  },
  {
   "cell_type": "code",
   "execution_count": 2,
   "metadata": {},
   "outputs": [
    {
     "name": "stdout",
     "output_type": "stream",
     "text": [
      "\n"
     ]
    }
   ],
   "source": [
    "!/opt/kafka/bin/kafka-topics.sh \\\n",
    "    --bootstrap-server $BS \\\n",
    "    --list \\\n",
    "    --topic kafkademo"
   ]
  },
  {
   "cell_type": "code",
   "execution_count": 4,
   "metadata": {},
   "outputs": [
    {
     "name": "stdout",
     "output_type": "stream",
     "text": [
      "Created topic kafkademo.\n"
     ]
    }
   ],
   "source": [
    "!/opt/kafka/bin/kafka-topics.sh \\\n",
    "    --bootstrap-server $BS \\\n",
    "    --create \\\n",
    "    --topic kafkademo \\\n",
    "    --partitions 2 \\\n",
    "    --replication-factor 2\n",
    "\n",
    "# Default Replication Factor: 3\n",
    "# Cluster Size: 2 Brokers\n",
    "# Replication Factor cannot be greater than 2"
   ]
  },
  {
   "cell_type": "code",
   "execution_count": 5,
   "metadata": {},
   "outputs": [
    {
     "name": "stdout",
     "output_type": "stream",
     "text": [
      "kafkademo\n"
     ]
    }
   ],
   "source": [
    "!/opt/kafka/bin/kafka-topics.sh \\\n",
    "    --bootstrap-server $BS \\\n",
    "    --list \\\n",
    "    --topic kafkademo"
   ]
  },
  {
   "cell_type": "code",
   "execution_count": 6,
   "metadata": {},
   "outputs": [
    {
     "name": "stdout",
     "output_type": "stream",
     "text": [
      "Topic: kafkademo\tTopicId: p3hAf13LS_qO8jOOXUMkLg\tPartitionCount: 2\tReplicationFactor: 2\tConfigs: min.insync.replicas=2,message.format.version=3.0-IV1,unclean.leader.election.enable=true\n",
      "\tTopic: kafkademo\tPartition: 0\tLeader: 2\tReplicas: 2,1\tIsr: 2,1\n",
      "\tTopic: kafkademo\tPartition: 1\tLeader: 1\tReplicas: 1,2\tIsr: 1,2\n"
     ]
    }
   ],
   "source": [
    "!/opt/kafka/bin/kafka-topics.sh \\\n",
    "    --bootstrap-server $BS \\\n",
    "    --describe \\\n",
    "    --topic kafkademo"
   ]
  },
  {
   "cell_type": "code",
   "execution_count": 8,
   "metadata": {},
   "outputs": [],
   "source": [
    "!/opt/kafka/bin/kafka-topics.sh \\\n",
    "    --bootstrap-server $BS \\\n",
    "    --delete \\\n",
    "    --topic kafkademo"
   ]
  },
  {
   "cell_type": "code",
   "execution_count": null,
   "metadata": {},
   "outputs": [],
   "source": []
  }
 ],
 "metadata": {
  "kernelspec": {
   "display_name": "Python 3.8.9 64-bit",
   "language": "python",
   "name": "python3"
  },
  "language_info": {
   "codemirror_mode": {
    "name": "ipython",
    "version": 3
   },
   "file_extension": ".py",
   "mimetype": "text/x-python",
   "name": "python",
   "nbconvert_exporter": "python",
   "pygments_lexer": "ipython3",
   "version": "3.7.10"
  },
  "orig_nbformat": 4,
  "vscode": {
   "interpreter": {
    "hash": "31f2aee4e71d21fbe5cf8b01ff0e069b9275f58929596ceb00d14d90e3e16cd6"
   }
  }
 },
 "nbformat": 4,
 "nbformat_minor": 2
}
