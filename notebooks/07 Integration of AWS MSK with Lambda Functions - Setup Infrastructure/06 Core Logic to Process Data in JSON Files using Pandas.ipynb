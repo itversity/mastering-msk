{
 "cells": [
  {
   "cell_type": "code",
   "execution_count": 4,
   "metadata": {},
   "outputs": [
    {
     "name": "stdout",
     "output_type": "stream",
     "text": [
      "Defaulting to user installation because normal site-packages is not writeable\n",
      "Requirement already satisfied: pandas in /home/ec2-user/.local/lib/python3.7/site-packages (1.3.5)\n",
      "Requirement already satisfied: numpy>=1.17.3; platform_machine != \"aarch64\" and platform_machine != \"arm64\" and python_version < \"3.10\" in /home/ec2-user/.local/lib/python3.7/site-packages (from pandas) (1.21.6)\n",
      "Requirement already satisfied: pytz>=2017.3 in /home/ec2-user/.local/lib/python3.7/site-packages (from pandas) (2022.1)\n",
      "Requirement already satisfied: python-dateutil>=2.7.3 in /home/ec2-user/.local/lib/python3.7/site-packages (from pandas) (2.8.2)\n",
      "Requirement already satisfied: six>=1.5 in /home/ec2-user/.local/lib/python3.7/site-packages (from python-dateutil>=2.7.3->pandas) (1.16.0)\n"
     ]
    }
   ],
   "source": [
    "!python3 -m pip install pandas"
   ]
  },
  {
   "cell_type": "code",
   "execution_count": 5,
   "metadata": {},
   "outputs": [
    {
     "name": "stdout",
     "output_type": "stream",
     "text": [
      "boto3              1.24.45\n"
     ]
    }
   ],
   "source": [
    "!python3 -m pip list|grep boto3"
   ]
  },
  {
   "cell_type": "code",
   "execution_count": 6,
   "metadata": {},
   "outputs": [
    {
     "name": "stdout",
     "output_type": "stream",
     "text": [
      "Defaulting to user installation because normal site-packages is not writeable\n",
      "Requirement already satisfied: boto3 in /home/ec2-user/.local/lib/python3.7/site-packages (1.24.45)\n",
      "Requirement already satisfied: fsspec in /home/ec2-user/.local/lib/python3.7/site-packages (2022.7.1)\n",
      "Requirement already satisfied: s3fs in /home/ec2-user/.local/lib/python3.7/site-packages (2022.7.1)\n",
      "Requirement already satisfied: s3transfer<0.7.0,>=0.6.0 in /home/ec2-user/.local/lib/python3.7/site-packages (from boto3) (0.6.0)\n",
      "Requirement already satisfied: botocore<1.28.0,>=1.27.45 in /home/ec2-user/.local/lib/python3.7/site-packages (from boto3) (1.27.45)\n",
      "Requirement already satisfied: jmespath<2.0.0,>=0.7.1 in /home/ec2-user/.local/lib/python3.7/site-packages (from boto3) (1.0.1)\n",
      "Requirement already satisfied: aiohttp in /home/ec2-user/.local/lib/python3.7/site-packages (from s3fs) (3.8.1)\n",
      "Requirement already satisfied: aiobotocore~=2.3.4 in /home/ec2-user/.local/lib/python3.7/site-packages (from s3fs) (2.3.4)\n",
      "Requirement already satisfied: python-dateutil<3.0.0,>=2.1 in /home/ec2-user/.local/lib/python3.7/site-packages (from botocore<1.28.0,>=1.27.45->boto3) (2.8.2)\n",
      "Requirement already satisfied: urllib3<1.27,>=1.25.4 in /home/ec2-user/.local/lib/python3.7/site-packages (from botocore<1.28.0,>=1.27.45->boto3) (1.26.11)\n",
      "Requirement already satisfied: frozenlist>=1.1.1 in /home/ec2-user/.local/lib/python3.7/site-packages (from aiohttp->s3fs) (1.3.1)\n",
      "Requirement already satisfied: multidict<7.0,>=4.5 in /home/ec2-user/.local/lib/python3.7/site-packages (from aiohttp->s3fs) (6.0.2)\n",
      "Requirement already satisfied: yarl<2.0,>=1.0 in /home/ec2-user/.local/lib/python3.7/site-packages (from aiohttp->s3fs) (1.8.1)\n",
      "Requirement already satisfied: async-timeout<5.0,>=4.0.0a3 in /home/ec2-user/.local/lib/python3.7/site-packages (from aiohttp->s3fs) (4.0.2)\n",
      "Requirement already satisfied: charset-normalizer<3.0,>=2.0 in /home/ec2-user/.local/lib/python3.7/site-packages (from aiohttp->s3fs) (2.1.0)\n",
      "Requirement already satisfied: aiosignal>=1.1.2 in /home/ec2-user/.local/lib/python3.7/site-packages (from aiohttp->s3fs) (1.2.0)\n",
      "Requirement already satisfied: attrs>=17.3.0 in /home/ec2-user/.local/lib/python3.7/site-packages (from aiohttp->s3fs) (22.1.0)\n",
      "Requirement already satisfied: asynctest==0.13.0; python_version < \"3.8\" in /home/ec2-user/.local/lib/python3.7/site-packages (from aiohttp->s3fs) (0.13.0)\n",
      "Requirement already satisfied: typing-extensions>=3.7.4; python_version < \"3.8\" in /home/ec2-user/.local/lib/python3.7/site-packages (from aiohttp->s3fs) (4.3.0)\n",
      "Requirement already satisfied: wrapt>=1.10.10 in /home/ec2-user/.local/lib/python3.7/site-packages (from aiobotocore~=2.3.4->s3fs) (1.14.1)\n",
      "Requirement already satisfied: aioitertools>=0.5.1 in /home/ec2-user/.local/lib/python3.7/site-packages (from aiobotocore~=2.3.4->s3fs) (0.10.0)\n",
      "Requirement already satisfied: six>=1.5 in /home/ec2-user/.local/lib/python3.7/site-packages (from python-dateutil<3.0.0,>=2.1->botocore<1.28.0,>=1.27.45->boto3) (1.16.0)\n",
      "Requirement already satisfied: idna>=2.0 in /home/ec2-user/.local/lib/python3.7/site-packages (from yarl<2.0,>=1.0->aiohttp->s3fs) (3.3)\n"
     ]
    }
   ],
   "source": [
    "!python3 -m pip install boto3 fsspec s3fs"
   ]
  },
  {
   "cell_type": "code",
   "execution_count": 12,
   "metadata": {},
   "outputs": [
    {
     "name": "stdout",
     "output_type": "stream",
     "text": [
      "Defaulting to user installation because normal site-packages is not writeable\n",
      "Requirement already satisfied: pyarrow in /home/ec2-user/.local/lib/python3.7/site-packages (9.0.0)\n",
      "Requirement already satisfied: numpy>=1.16.6 in /home/ec2-user/.local/lib/python3.7/site-packages (from pyarrow) (1.21.6)\n"
     ]
    }
   ],
   "source": [
    "!python3 -m pip install pyarrow"
   ]
  },
  {
   "cell_type": "code",
   "execution_count": 13,
   "metadata": {},
   "outputs": [],
   "source": [
    "import pandas as pd"
   ]
  },
  {
   "cell_type": "code",
   "execution_count": 14,
   "metadata": {},
   "outputs": [
    {
     "name": "stdout",
     "output_type": "stream",
     "text": [
      "2022-08-09 00:03:50      29096 topics/retail_logs/partition=0/retail_logs+0+0000011520.bin\n",
      "2022-08-09 00:03:50      29349 topics/retail_logs/partition=0/retail_logs+0+0000011640.bin\n",
      "2022-08-09 00:03:50      29353 topics/retail_logs/partition=0/retail_logs+0+0000011760.bin\n",
      "2022-08-09 00:03:50      29165 topics/retail_logs/partition=0/retail_logs+0+0000011880.bin\n",
      "2022-08-09 00:03:50      29204 topics/retail_logs/partition=0/retail_logs+0+0000012000.bin\n",
      "2022-08-09 00:03:50      29199 topics/retail_logs/partition=0/retail_logs+0+0000012120.bin\n",
      "2022-08-09 00:03:50      29333 topics/retail_logs/partition=0/retail_logs+0+0000012240.bin\n",
      "2022-08-09 00:03:50      29517 topics/retail_logs/partition=0/retail_logs+0+0000012360.bin\n",
      "2022-08-09 00:03:50      29233 topics/retail_logs/partition=0/retail_logs+0+0000012480.bin\n",
      "2022-08-09 00:03:50      29221 topics/retail_logs/partition=0/retail_logs+0+0000012600.bin\n",
      "2022-08-09 00:03:50      28860 topics/retail_logs/partition=0/retail_logs+0+0000012720.bin\n",
      "2022-08-09 00:03:50      29131 topics/retail_logs/partition=0/retail_logs+0+0000012840.bin\n",
      "2022-08-09 00:03:50      29367 topics/retail_logs/partition=0/retail_logs+0+0000012960.bin\n",
      "2022-08-09 00:03:50      29565 topics/retail_logs/partition=0/retail_logs+0+0000013080.bin\n",
      "2022-08-09 00:03:50      29027 topics/retail_logs/partition=0/retail_logs+0+0000013200.bin\n",
      "2022-08-09 00:03:50      29272 topics/retail_logs/partition=0/retail_logs+0+0000013320.bin\n",
      "2022-08-09 00:03:50      29019 topics/retail_logs/partition=0/retail_logs+0+0000013440.bin\n",
      "2022-08-09 00:03:50      29560 topics/retail_logs/partition=0/retail_logs+0+0000013560.bin\n",
      "2022-08-09 00:03:50      29268 topics/retail_logs/partition=0/retail_logs+0+0000013680.bin\n",
      "2022-08-09 00:03:50      29371 topics/retail_logs/partition=0/retail_logs+0+0000013800.bin\n",
      "2022-08-09 00:03:50      29356 topics/retail_logs/partition=0/retail_logs+0+0000013920.bin\n",
      "2022-08-09 00:03:51      29339 topics/retail_logs/partition=0/retail_logs+0+0000014040.bin\n",
      "2022-08-09 00:03:51      29085 topics/retail_logs/partition=0/retail_logs+0+0000014160.bin\n",
      "2022-08-09 00:03:51      28793 topics/retail_logs/partition=0/retail_logs+0+0000014280.bin\n",
      "2022-08-09 00:03:51      29452 topics/retail_logs/partition=0/retail_logs+0+0000014400.bin\n",
      "2022-08-09 00:03:51      28928 topics/retail_logs/partition=0/retail_logs+0+0000014520.bin\n",
      "2022-08-09 00:03:51      29549 topics/retail_logs/partition=0/retail_logs+0+0000014640.bin\n",
      "2022-08-09 00:03:51      29321 topics/retail_logs/partition=0/retail_logs+0+0000014760.bin\n",
      "2022-08-09 00:03:51      29425 topics/retail_logs/partition=0/retail_logs+0+0000014880.bin\n",
      "2022-08-09 00:03:51      28877 topics/retail_logs/partition=0/retail_logs+0+0000015000.bin\n",
      "2022-08-09 00:03:51      29288 topics/retail_logs/partition=0/retail_logs+0+0000015120.bin\n",
      "2022-08-09 00:03:51      29070 topics/retail_logs/partition=0/retail_logs+0+0000015240.bin\n",
      "2022-08-09 00:03:51      29009 topics/retail_logs/partition=0/retail_logs+0+0000015360.bin\n",
      "2022-08-09 00:03:51      29354 topics/retail_logs/partition=0/retail_logs+0+0000015480.bin\n",
      "2022-08-09 00:03:51      29217 topics/retail_logs/partition=0/retail_logs+0+0000015600.bin\n",
      "2022-08-09 00:03:51      29140 topics/retail_logs/partition=0/retail_logs+0+0000015720.bin\n",
      "2022-08-09 00:03:51      29410 topics/retail_logs/partition=0/retail_logs+0+0000015840.bin\n",
      "2022-08-09 00:03:51      29176 topics/retail_logs/partition=0/retail_logs+0+0000015960.bin\n",
      "2022-08-09 00:03:51      28876 topics/retail_logs/partition=0/retail_logs+0+0000016080.bin\n",
      "2022-08-09 00:03:51      29403 topics/retail_logs/partition=0/retail_logs+0+0000016200.bin\n",
      "2022-08-09 00:03:51      29371 topics/retail_logs/partition=0/retail_logs+0+0000016320.bin\n",
      "2022-08-09 00:03:51      29150 topics/retail_logs/partition=0/retail_logs+0+0000016440.bin\n",
      "2022-08-09 00:03:51      28947 topics/retail_logs/partition=0/retail_logs+0+0000016560.bin\n",
      "2022-08-09 00:03:51      29039 topics/retail_logs/partition=0/retail_logs+0+0000016680.bin\n",
      "2022-08-09 00:03:51      29200 topics/retail_logs/partition=0/retail_logs+0+0000016800.bin\n",
      "2022-08-09 00:03:51      29074 topics/retail_logs/partition=0/retail_logs+0+0000016920.bin\n",
      "2022-08-09 00:03:51      28854 topics/retail_logs/partition=0/retail_logs+0+0000017040.bin\n",
      "2022-08-09 00:03:51      29069 topics/retail_logs/partition=0/retail_logs+0+0000017160.bin\n",
      "2022-08-09 00:03:51      29195 topics/retail_logs/partition=0/retail_logs+0+0000017280.bin\n",
      "2022-08-09 00:03:51      28951 topics/retail_logs/partition=0/retail_logs+0+0000017400.bin\n",
      "2022-08-09 00:03:51      28749 topics/retail_logs/partition=0/retail_logs+0+0000017520.bin\n",
      "2022-08-09 00:03:51      29292 topics/retail_logs/partition=0/retail_logs+0+0000017640.bin\n",
      "2022-08-09 00:03:51      29587 topics/retail_logs/partition=0/retail_logs+0+0000017760.bin\n",
      "2022-08-09 00:03:51      29528 topics/retail_logs/partition=0/retail_logs+0+0000017880.bin\n",
      "2022-08-09 00:03:51      29277 topics/retail_logs/partition=0/retail_logs+0+0000018000.bin\n",
      "2022-08-09 00:03:51      29245 topics/retail_logs/partition=0/retail_logs+0+0000018120.bin\n",
      "2022-08-09 00:03:51      29374 topics/retail_logs/partition=0/retail_logs+0+0000018240.bin\n",
      "2022-08-09 00:03:51      29250 topics/retail_logs/partition=0/retail_logs+0+0000018360.bin\n",
      "2022-08-09 00:03:51      28963 topics/retail_logs/partition=0/retail_logs+0+0000018480.bin\n",
      "2022-08-09 00:03:51      29303 topics/retail_logs/partition=0/retail_logs+0+0000018600.bin\n",
      "2022-08-09 00:03:51      29167 topics/retail_logs/partition=0/retail_logs+0+0000018720.bin\n",
      "2022-08-09 00:03:51      29278 topics/retail_logs/partition=0/retail_logs+0+0000018840.bin\n",
      "2022-08-09 00:03:51      28954 topics/retail_logs/partition=0/retail_logs+0+0000018960.bin\n",
      "2022-08-09 00:03:51      29266 topics/retail_logs/partition=0/retail_logs+0+0000019080.bin\n",
      "2022-08-09 00:03:51      29190 topics/retail_logs/partition=0/retail_logs+0+0000019200.bin\n",
      "2022-08-09 00:03:51      29686 topics/retail_logs/partition=0/retail_logs+0+0000019320.bin\n",
      "2022-08-09 00:03:51      29187 topics/retail_logs/partition=0/retail_logs+0+0000019440.bin\n",
      "2022-08-09 00:03:51      29402 topics/retail_logs/partition=0/retail_logs+0+0000019560.bin\n",
      "2022-08-09 00:03:51      29233 topics/retail_logs/partition=0/retail_logs+0+0000019680.bin\n",
      "2022-08-09 00:03:51      29379 topics/retail_logs/partition=0/retail_logs+0+0000019800.bin\n",
      "2022-08-09 00:03:51      29392 topics/retail_logs/partition=0/retail_logs+0+0000019920.bin\n",
      "2022-08-09 00:03:51      28853 topics/retail_logs/partition=0/retail_logs+0+0000020040.bin\n",
      "2022-08-09 00:03:51      29233 topics/retail_logs/partition=1/retail_logs+1+0000011280.bin\n",
      "2022-08-09 00:03:51      28978 topics/retail_logs/partition=1/retail_logs+1+0000011400.bin\n",
      "2022-08-09 00:03:51      29048 topics/retail_logs/partition=1/retail_logs+1+0000011520.bin\n",
      "2022-08-09 00:03:51      29734 topics/retail_logs/partition=1/retail_logs+1+0000011640.bin\n",
      "2022-08-09 00:03:51      29439 topics/retail_logs/partition=1/retail_logs+1+0000011760.bin\n",
      "2022-08-09 00:03:51      29007 topics/retail_logs/partition=1/retail_logs+1+0000011880.bin\n",
      "2022-08-09 00:03:51      29025 topics/retail_logs/partition=1/retail_logs+1+0000012000.bin\n",
      "2022-08-09 00:03:51      29611 topics/retail_logs/partition=1/retail_logs+1+0000012120.bin\n",
      "2022-08-09 00:03:51      29323 topics/retail_logs/partition=1/retail_logs+1+0000012240.bin\n",
      "2022-08-09 00:03:51      30258 topics/retail_logs/partition=1/retail_logs+1+0000012360.bin\n",
      "2022-08-09 00:03:51      29398 topics/retail_logs/partition=1/retail_logs+1+0000012480.bin\n",
      "2022-08-09 00:03:51      28936 topics/retail_logs/partition=1/retail_logs+1+0000012600.bin\n",
      "2022-08-09 00:03:51      29523 topics/retail_logs/partition=1/retail_logs+1+0000012720.bin\n",
      "2022-08-09 00:03:51      29239 topics/retail_logs/partition=1/retail_logs+1+0000012840.bin\n",
      "2022-08-09 00:03:51      29321 topics/retail_logs/partition=1/retail_logs+1+0000012960.bin\n",
      "2022-08-09 00:03:51      29246 topics/retail_logs/partition=1/retail_logs+1+0000013080.bin\n",
      "2022-08-09 00:03:51      29286 topics/retail_logs/partition=1/retail_logs+1+0000013200.bin\n",
      "2022-08-09 00:03:51      29383 topics/retail_logs/partition=1/retail_logs+1+0000013320.bin\n",
      "2022-08-09 00:03:51      29298 topics/retail_logs/partition=1/retail_logs+1+0000013440.bin\n",
      "2022-08-09 00:03:51      28912 topics/retail_logs/partition=1/retail_logs+1+0000013560.bin\n",
      "2022-08-09 00:03:51      29332 topics/retail_logs/partition=1/retail_logs+1+0000013680.bin\n",
      "2022-08-09 00:03:52      29324 topics/retail_logs/partition=1/retail_logs+1+0000013800.bin\n",
      "2022-08-09 00:03:52      29127 topics/retail_logs/partition=1/retail_logs+1+0000013920.bin\n",
      "2022-08-09 00:03:52      29716 topics/retail_logs/partition=1/retail_logs+1+0000014040.bin\n",
      "2022-08-09 00:03:52      29270 topics/retail_logs/partition=1/retail_logs+1+0000014160.bin\n",
      "2022-08-09 00:03:52      29163 topics/retail_logs/partition=1/retail_logs+1+0000014280.bin\n",
      "2022-08-09 00:03:52      29115 topics/retail_logs/partition=1/retail_logs+1+0000014400.bin\n",
      "2022-08-09 00:03:52      29076 topics/retail_logs/partition=1/retail_logs+1+0000014520.bin\n",
      "2022-08-09 00:03:52      29141 topics/retail_logs/partition=1/retail_logs+1+0000014640.bin\n",
      "2022-08-09 00:03:52      29673 topics/retail_logs/partition=1/retail_logs+1+0000014760.bin\n",
      "2022-08-09 00:03:52      29711 topics/retail_logs/partition=1/retail_logs+1+0000014880.bin\n",
      "2022-08-09 00:03:52      29306 topics/retail_logs/partition=1/retail_logs+1+0000015000.bin\n",
      "2022-08-09 00:03:52      29163 topics/retail_logs/partition=1/retail_logs+1+0000015120.bin\n",
      "2022-08-09 00:03:52      29116 topics/retail_logs/partition=1/retail_logs+1+0000015240.bin\n",
      "2022-08-09 00:03:52      28956 topics/retail_logs/partition=1/retail_logs+1+0000015360.bin\n",
      "2022-08-09 00:03:52      29338 topics/retail_logs/partition=1/retail_logs+1+0000015480.bin\n",
      "2022-08-09 00:03:52      29331 topics/retail_logs/partition=1/retail_logs+1+0000015600.bin\n",
      "2022-08-09 00:03:52      29425 topics/retail_logs/partition=1/retail_logs+1+0000015720.bin\n",
      "2022-08-09 00:03:52      28907 topics/retail_logs/partition=1/retail_logs+1+0000015840.bin\n",
      "2022-08-09 00:03:52      28935 topics/retail_logs/partition=1/retail_logs+1+0000015960.bin\n",
      "2022-08-09 00:03:52      29104 topics/retail_logs/partition=1/retail_logs+1+0000016080.bin\n",
      "2022-08-09 00:03:52      29265 topics/retail_logs/partition=1/retail_logs+1+0000016200.bin\n",
      "2022-08-09 00:03:52      29096 topics/retail_logs/partition=1/retail_logs+1+0000016320.bin\n",
      "2022-08-09 00:03:52      29187 topics/retail_logs/partition=1/retail_logs+1+0000016440.bin\n",
      "2022-08-09 00:03:52      29332 topics/retail_logs/partition=1/retail_logs+1+0000016560.bin\n",
      "2022-08-09 00:03:52      29358 topics/retail_logs/partition=1/retail_logs+1+0000016680.bin\n",
      "2022-08-09 00:03:52      29221 topics/retail_logs/partition=1/retail_logs+1+0000016800.bin\n",
      "2022-08-09 00:03:52      29183 topics/retail_logs/partition=1/retail_logs+1+0000016920.bin\n",
      "2022-08-09 00:03:52      29492 topics/retail_logs/partition=1/retail_logs+1+0000017040.bin\n",
      "2022-08-09 00:03:52      28991 topics/retail_logs/partition=1/retail_logs+1+0000017160.bin\n",
      "2022-08-09 00:03:52      28988 topics/retail_logs/partition=1/retail_logs+1+0000017280.bin\n",
      "2022-08-09 00:03:52      29561 topics/retail_logs/partition=1/retail_logs+1+0000017400.bin\n",
      "2022-08-09 00:03:52      29284 topics/retail_logs/partition=1/retail_logs+1+0000017520.bin\n",
      "2022-08-09 00:03:52      29324 topics/retail_logs/partition=1/retail_logs+1+0000017640.bin\n",
      "2022-08-09 00:03:52      28941 topics/retail_logs/partition=1/retail_logs+1+0000017760.bin\n",
      "2022-08-09 00:03:52      29138 topics/retail_logs/partition=1/retail_logs+1+0000017880.bin\n",
      "2022-08-09 00:03:52      29209 topics/retail_logs/partition=1/retail_logs+1+0000018000.bin\n",
      "2022-08-09 00:03:52      29382 topics/retail_logs/partition=1/retail_logs+1+0000018120.bin\n",
      "2022-08-09 00:03:52      28890 topics/retail_logs/partition=1/retail_logs+1+0000018240.bin\n",
      "2022-08-09 00:03:52      29482 topics/retail_logs/partition=1/retail_logs+1+0000018360.bin\n",
      "2022-08-09 00:03:52      29489 topics/retail_logs/partition=1/retail_logs+1+0000018480.bin\n",
      "2022-08-09 00:03:52      29288 topics/retail_logs/partition=1/retail_logs+1+0000018600.bin\n",
      "2022-08-09 00:03:52      29088 topics/retail_logs/partition=1/retail_logs+1+0000018720.bin\n",
      "2022-08-09 00:03:52      29029 topics/retail_logs/partition=1/retail_logs+1+0000018840.bin\n",
      "2022-08-09 00:03:52      29566 topics/retail_logs/partition=1/retail_logs+1+0000018960.bin\n",
      "2022-08-09 00:03:52      29114 topics/retail_logs/partition=1/retail_logs+1+0000019080.bin\n",
      "2022-08-09 00:03:52      29327 topics/retail_logs/partition=1/retail_logs+1+0000019200.bin\n",
      "2022-08-09 00:03:52      29242 topics/retail_logs/partition=1/retail_logs+1+0000019320.bin\n",
      "2022-08-09 00:03:52      29282 topics/retail_logs/partition=1/retail_logs+1+0000019440.bin\n",
      "2022-08-09 00:03:52      29156 topics/retail_logs/partition=1/retail_logs+1+0000019560.bin\n",
      "2022-08-09 00:03:52      29478 topics/retail_logs/partition=1/retail_logs+1+0000019680.bin\n"
     ]
    }
   ],
   "source": [
    "!aws s3 ls s3://airetail/topics/retail_logs --recursive"
   ]
  },
  {
   "cell_type": "code",
   "execution_count": 15,
   "metadata": {},
   "outputs": [],
   "source": [
    "df = pd.read_json(\n",
    "    's3://airetail/topics/retail_logs/partition=1/retail_logs+1+0000019680.bin',\n",
    "    lines=True\n",
    ")"
   ]
  },
  {
   "cell_type": "code",
   "execution_count": 16,
   "metadata": {},
   "outputs": [
    {
     "data": {
      "text/html": [
       "<div>\n",
       "<style scoped>\n",
       "    .dataframe tbody tr th:only-of-type {\n",
       "        vertical-align: middle;\n",
       "    }\n",
       "\n",
       "    .dataframe tbody tr th {\n",
       "        vertical-align: top;\n",
       "    }\n",
       "\n",
       "    .dataframe thead th {\n",
       "        text-align: right;\n",
       "    }\n",
       "</style>\n",
       "<table border=\"1\" class=\"dataframe\">\n",
       "  <thead>\n",
       "    <tr style=\"text-align: right;\">\n",
       "      <th></th>\n",
       "      <th>ip</th>\n",
       "      <th>date</th>\n",
       "      <th>request</th>\n",
       "      <th>resp_code</th>\n",
       "      <th>resp_size</th>\n",
       "      <th>ua</th>\n",
       "    </tr>\n",
       "  </thead>\n",
       "  <tbody>\n",
       "    <tr>\n",
       "      <th>0</th>\n",
       "      <td>19.239.117.99</td>\n",
       "      <td>2022-08-04 12:57:03.484999</td>\n",
       "      <td>/departments</td>\n",
       "      <td>200</td>\n",
       "      <td>455</td>\n",
       "      <td>Mozilla/5.0 (Windows NT 6.1; WOW64) AppleWebKi...</td>\n",
       "    </tr>\n",
       "    <tr>\n",
       "      <th>1</th>\n",
       "      <td>61.213.60.141</td>\n",
       "      <td>2022-08-04 12:57:04.738835</td>\n",
       "      <td>/departments</td>\n",
       "      <td>200</td>\n",
       "      <td>406</td>\n",
       "      <td>Mozilla/5.0 (Macintosh; Intel Mac OS X 10_9_3)...</td>\n",
       "    </tr>\n",
       "    <tr>\n",
       "      <th>2</th>\n",
       "      <td>50.145.132.173</td>\n",
       "      <td>2022-08-04 12:57:04.989693</td>\n",
       "      <td>/department/team%20sports/categories</td>\n",
       "      <td>200</td>\n",
       "      <td>1753</td>\n",
       "      <td>Mozilla/5.0 (Windows NT 6.1; WOW64) AppleWebKi...</td>\n",
       "    </tr>\n",
       "    <tr>\n",
       "      <th>3</th>\n",
       "      <td>118.15.198.156</td>\n",
       "      <td>2022-08-04 12:57:05.240406</td>\n",
       "      <td>/departments</td>\n",
       "      <td>200</td>\n",
       "      <td>1117</td>\n",
       "      <td>Mozilla/5.0 (Windows NT 6.1; WOW64) AppleWebKi...</td>\n",
       "    </tr>\n",
       "    <tr>\n",
       "      <th>4</th>\n",
       "      <td>9.136.25.9</td>\n",
       "      <td>2022-08-04 12:57:05.491227</td>\n",
       "      <td>/departments</td>\n",
       "      <td>200</td>\n",
       "      <td>1762</td>\n",
       "      <td>Mozilla/5.0 (Windows NT 6.1; WOW64) AppleWebKi...</td>\n",
       "    </tr>\n",
       "    <tr>\n",
       "      <th>...</th>\n",
       "      <td>...</td>\n",
       "      <td>...</td>\n",
       "      <td>...</td>\n",
       "      <td>...</td>\n",
       "      <td>...</td>\n",
       "      <td>...</td>\n",
       "    </tr>\n",
       "    <tr>\n",
       "      <th>115</th>\n",
       "      <td>76.165.10.140</td>\n",
       "      <td>2022-08-04 12:58:01.413406</td>\n",
       "      <td>/departments</td>\n",
       "      <td>200</td>\n",
       "      <td>1901</td>\n",
       "      <td>Mozilla/5.0 (Macintosh; Intel Mac OS X 10_9_4)...</td>\n",
       "    </tr>\n",
       "    <tr>\n",
       "      <th>116</th>\n",
       "      <td>197.75.47.132</td>\n",
       "      <td>2022-08-04 12:58:02.667290</td>\n",
       "      <td>/department/outdoors/categories</td>\n",
       "      <td>200</td>\n",
       "      <td>1269</td>\n",
       "      <td>Mozilla/5.0 (Macintosh; Intel Mac OS X 10_9_3)...</td>\n",
       "    </tr>\n",
       "    <tr>\n",
       "      <th>117</th>\n",
       "      <td>172.114.118.212</td>\n",
       "      <td>2022-08-04 12:58:02.918046</td>\n",
       "      <td>/departments</td>\n",
       "      <td>404</td>\n",
       "      <td>2049</td>\n",
       "      <td>Mozilla/5.0 (Windows NT 6.1; WOW64) AppleWebKi...</td>\n",
       "    </tr>\n",
       "    <tr>\n",
       "      <th>118</th>\n",
       "      <td>57.124.232.220</td>\n",
       "      <td>2022-08-04 12:58:03.168756</td>\n",
       "      <td>/departments</td>\n",
       "      <td>200</td>\n",
       "      <td>938</td>\n",
       "      <td>Mozilla/5.0 (Macintosh; Intel Mac OS X 10_9_3)...</td>\n",
       "    </tr>\n",
       "    <tr>\n",
       "      <th>119</th>\n",
       "      <td>174.253.197.186</td>\n",
       "      <td>2022-08-04 12:58:03.419559</td>\n",
       "      <td>/add_to_cart/1320</td>\n",
       "      <td>200</td>\n",
       "      <td>1028</td>\n",
       "      <td>Mozilla/5.0 (Windows NT 6.1; WOW64; rv:30.0) G...</td>\n",
       "    </tr>\n",
       "  </tbody>\n",
       "</table>\n",
       "<p>120 rows × 6 columns</p>\n",
       "</div>"
      ],
      "text/plain": [
       "                  ip                       date  \\\n",
       "0      19.239.117.99 2022-08-04 12:57:03.484999   \n",
       "1      61.213.60.141 2022-08-04 12:57:04.738835   \n",
       "2     50.145.132.173 2022-08-04 12:57:04.989693   \n",
       "3     118.15.198.156 2022-08-04 12:57:05.240406   \n",
       "4         9.136.25.9 2022-08-04 12:57:05.491227   \n",
       "..               ...                        ...   \n",
       "115    76.165.10.140 2022-08-04 12:58:01.413406   \n",
       "116    197.75.47.132 2022-08-04 12:58:02.667290   \n",
       "117  172.114.118.212 2022-08-04 12:58:02.918046   \n",
       "118   57.124.232.220 2022-08-04 12:58:03.168756   \n",
       "119  174.253.197.186 2022-08-04 12:58:03.419559   \n",
       "\n",
       "                                  request  resp_code  resp_size  \\\n",
       "0                            /departments        200        455   \n",
       "1                            /departments        200        406   \n",
       "2    /department/team%20sports/categories        200       1753   \n",
       "3                            /departments        200       1117   \n",
       "4                            /departments        200       1762   \n",
       "..                                    ...        ...        ...   \n",
       "115                          /departments        200       1901   \n",
       "116       /department/outdoors/categories        200       1269   \n",
       "117                          /departments        404       2049   \n",
       "118                          /departments        200        938   \n",
       "119                     /add_to_cart/1320        200       1028   \n",
       "\n",
       "                                                    ua  \n",
       "0    Mozilla/5.0 (Windows NT 6.1; WOW64) AppleWebKi...  \n",
       "1    Mozilla/5.0 (Macintosh; Intel Mac OS X 10_9_3)...  \n",
       "2    Mozilla/5.0 (Windows NT 6.1; WOW64) AppleWebKi...  \n",
       "3    Mozilla/5.0 (Windows NT 6.1; WOW64) AppleWebKi...  \n",
       "4    Mozilla/5.0 (Windows NT 6.1; WOW64) AppleWebKi...  \n",
       "..                                                 ...  \n",
       "115  Mozilla/5.0 (Macintosh; Intel Mac OS X 10_9_4)...  \n",
       "116  Mozilla/5.0 (Macintosh; Intel Mac OS X 10_9_3)...  \n",
       "117  Mozilla/5.0 (Windows NT 6.1; WOW64) AppleWebKi...  \n",
       "118  Mozilla/5.0 (Macintosh; Intel Mac OS X 10_9_3)...  \n",
       "119  Mozilla/5.0 (Windows NT 6.1; WOW64; rv:30.0) G...  \n",
       "\n",
       "[120 rows x 6 columns]"
      ]
     },
     "execution_count": 16,
     "metadata": {},
     "output_type": "execute_result"
    }
   ],
   "source": [
    "df"
   ]
  },
  {
   "cell_type": "code",
   "execution_count": 17,
   "metadata": {},
   "outputs": [
    {
     "data": {
      "text/plain": [
       "0     2022-08-04 12:57:03.484999\n",
       "1     2022-08-04 12:57:04.738835\n",
       "2     2022-08-04 12:57:04.989693\n",
       "3     2022-08-04 12:57:05.240406\n",
       "4     2022-08-04 12:57:05.491227\n",
       "                 ...            \n",
       "115   2022-08-04 12:58:01.413406\n",
       "116   2022-08-04 12:58:02.667290\n",
       "117   2022-08-04 12:58:02.918046\n",
       "118   2022-08-04 12:58:03.168756\n",
       "119   2022-08-04 12:58:03.419559\n",
       "Name: date, Length: 120, dtype: datetime64[ns]"
      ]
     },
     "execution_count": 17,
     "metadata": {},
     "output_type": "execute_result"
    }
   ],
   "source": [
    "df['date']"
   ]
  },
  {
   "cell_type": "code",
   "execution_count": 18,
   "metadata": {},
   "outputs": [],
   "source": [
    "ds = '2022-08-04 12:57:03.484999'"
   ]
  },
  {
   "cell_type": "code",
   "execution_count": 21,
   "metadata": {},
   "outputs": [
    {
     "data": {
      "text/plain": [
       "'04'"
      ]
     },
     "execution_count": 21,
     "metadata": {},
     "output_type": "execute_result"
    }
   ],
   "source": [
    "ds[8:10]"
   ]
  },
  {
   "cell_type": "code",
   "execution_count": 22,
   "metadata": {},
   "outputs": [
    {
     "data": {
      "text/plain": [
       "0      2022\n",
       "1      2022\n",
       "2      2022\n",
       "3      2022\n",
       "4      2022\n",
       "       ... \n",
       "115    2022\n",
       "116    2022\n",
       "117    2022\n",
       "118    2022\n",
       "119    2022\n",
       "Name: date, Length: 120, dtype: object"
      ]
     },
     "execution_count": 22,
     "metadata": {},
     "output_type": "execute_result"
    }
   ],
   "source": [
    "df['date'].apply(lambda dt: str(dt)[:4])"
   ]
  },
  {
   "cell_type": "code",
   "execution_count": 23,
   "metadata": {},
   "outputs": [],
   "source": [
    "df['year'] = df['date'].apply(lambda dt: str(dt)[:4])"
   ]
  },
  {
   "cell_type": "code",
   "execution_count": 24,
   "metadata": {},
   "outputs": [],
   "source": [
    "df['month'] = df['date'].apply(lambda dt: str(dt)[5:7])"
   ]
  },
  {
   "cell_type": "code",
   "execution_count": 25,
   "metadata": {},
   "outputs": [],
   "source": [
    "df['dayofmonth'] = df['date'].apply(lambda dt: str(dt)[8:10])"
   ]
  },
  {
   "cell_type": "code",
   "execution_count": 26,
   "metadata": {},
   "outputs": [
    {
     "data": {
      "text/html": [
       "<div>\n",
       "<style scoped>\n",
       "    .dataframe tbody tr th:only-of-type {\n",
       "        vertical-align: middle;\n",
       "    }\n",
       "\n",
       "    .dataframe tbody tr th {\n",
       "        vertical-align: top;\n",
       "    }\n",
       "\n",
       "    .dataframe thead th {\n",
       "        text-align: right;\n",
       "    }\n",
       "</style>\n",
       "<table border=\"1\" class=\"dataframe\">\n",
       "  <thead>\n",
       "    <tr style=\"text-align: right;\">\n",
       "      <th></th>\n",
       "      <th>ip</th>\n",
       "      <th>date</th>\n",
       "      <th>request</th>\n",
       "      <th>resp_code</th>\n",
       "      <th>resp_size</th>\n",
       "      <th>ua</th>\n",
       "      <th>year</th>\n",
       "      <th>month</th>\n",
       "      <th>dayofmonth</th>\n",
       "    </tr>\n",
       "  </thead>\n",
       "  <tbody>\n",
       "    <tr>\n",
       "      <th>0</th>\n",
       "      <td>19.239.117.99</td>\n",
       "      <td>2022-08-04 12:57:03.484999</td>\n",
       "      <td>/departments</td>\n",
       "      <td>200</td>\n",
       "      <td>455</td>\n",
       "      <td>Mozilla/5.0 (Windows NT 6.1; WOW64) AppleWebKi...</td>\n",
       "      <td>2022</td>\n",
       "      <td>08</td>\n",
       "      <td>04</td>\n",
       "    </tr>\n",
       "    <tr>\n",
       "      <th>1</th>\n",
       "      <td>61.213.60.141</td>\n",
       "      <td>2022-08-04 12:57:04.738835</td>\n",
       "      <td>/departments</td>\n",
       "      <td>200</td>\n",
       "      <td>406</td>\n",
       "      <td>Mozilla/5.0 (Macintosh; Intel Mac OS X 10_9_3)...</td>\n",
       "      <td>2022</td>\n",
       "      <td>08</td>\n",
       "      <td>04</td>\n",
       "    </tr>\n",
       "    <tr>\n",
       "      <th>2</th>\n",
       "      <td>50.145.132.173</td>\n",
       "      <td>2022-08-04 12:57:04.989693</td>\n",
       "      <td>/department/team%20sports/categories</td>\n",
       "      <td>200</td>\n",
       "      <td>1753</td>\n",
       "      <td>Mozilla/5.0 (Windows NT 6.1; WOW64) AppleWebKi...</td>\n",
       "      <td>2022</td>\n",
       "      <td>08</td>\n",
       "      <td>04</td>\n",
       "    </tr>\n",
       "    <tr>\n",
       "      <th>3</th>\n",
       "      <td>118.15.198.156</td>\n",
       "      <td>2022-08-04 12:57:05.240406</td>\n",
       "      <td>/departments</td>\n",
       "      <td>200</td>\n",
       "      <td>1117</td>\n",
       "      <td>Mozilla/5.0 (Windows NT 6.1; WOW64) AppleWebKi...</td>\n",
       "      <td>2022</td>\n",
       "      <td>08</td>\n",
       "      <td>04</td>\n",
       "    </tr>\n",
       "    <tr>\n",
       "      <th>4</th>\n",
       "      <td>9.136.25.9</td>\n",
       "      <td>2022-08-04 12:57:05.491227</td>\n",
       "      <td>/departments</td>\n",
       "      <td>200</td>\n",
       "      <td>1762</td>\n",
       "      <td>Mozilla/5.0 (Windows NT 6.1; WOW64) AppleWebKi...</td>\n",
       "      <td>2022</td>\n",
       "      <td>08</td>\n",
       "      <td>04</td>\n",
       "    </tr>\n",
       "    <tr>\n",
       "      <th>...</th>\n",
       "      <td>...</td>\n",
       "      <td>...</td>\n",
       "      <td>...</td>\n",
       "      <td>...</td>\n",
       "      <td>...</td>\n",
       "      <td>...</td>\n",
       "      <td>...</td>\n",
       "      <td>...</td>\n",
       "      <td>...</td>\n",
       "    </tr>\n",
       "    <tr>\n",
       "      <th>115</th>\n",
       "      <td>76.165.10.140</td>\n",
       "      <td>2022-08-04 12:58:01.413406</td>\n",
       "      <td>/departments</td>\n",
       "      <td>200</td>\n",
       "      <td>1901</td>\n",
       "      <td>Mozilla/5.0 (Macintosh; Intel Mac OS X 10_9_4)...</td>\n",
       "      <td>2022</td>\n",
       "      <td>08</td>\n",
       "      <td>04</td>\n",
       "    </tr>\n",
       "    <tr>\n",
       "      <th>116</th>\n",
       "      <td>197.75.47.132</td>\n",
       "      <td>2022-08-04 12:58:02.667290</td>\n",
       "      <td>/department/outdoors/categories</td>\n",
       "      <td>200</td>\n",
       "      <td>1269</td>\n",
       "      <td>Mozilla/5.0 (Macintosh; Intel Mac OS X 10_9_3)...</td>\n",
       "      <td>2022</td>\n",
       "      <td>08</td>\n",
       "      <td>04</td>\n",
       "    </tr>\n",
       "    <tr>\n",
       "      <th>117</th>\n",
       "      <td>172.114.118.212</td>\n",
       "      <td>2022-08-04 12:58:02.918046</td>\n",
       "      <td>/departments</td>\n",
       "      <td>404</td>\n",
       "      <td>2049</td>\n",
       "      <td>Mozilla/5.0 (Windows NT 6.1; WOW64) AppleWebKi...</td>\n",
       "      <td>2022</td>\n",
       "      <td>08</td>\n",
       "      <td>04</td>\n",
       "    </tr>\n",
       "    <tr>\n",
       "      <th>118</th>\n",
       "      <td>57.124.232.220</td>\n",
       "      <td>2022-08-04 12:58:03.168756</td>\n",
       "      <td>/departments</td>\n",
       "      <td>200</td>\n",
       "      <td>938</td>\n",
       "      <td>Mozilla/5.0 (Macintosh; Intel Mac OS X 10_9_3)...</td>\n",
       "      <td>2022</td>\n",
       "      <td>08</td>\n",
       "      <td>04</td>\n",
       "    </tr>\n",
       "    <tr>\n",
       "      <th>119</th>\n",
       "      <td>174.253.197.186</td>\n",
       "      <td>2022-08-04 12:58:03.419559</td>\n",
       "      <td>/add_to_cart/1320</td>\n",
       "      <td>200</td>\n",
       "      <td>1028</td>\n",
       "      <td>Mozilla/5.0 (Windows NT 6.1; WOW64; rv:30.0) G...</td>\n",
       "      <td>2022</td>\n",
       "      <td>08</td>\n",
       "      <td>04</td>\n",
       "    </tr>\n",
       "  </tbody>\n",
       "</table>\n",
       "<p>120 rows × 9 columns</p>\n",
       "</div>"
      ],
      "text/plain": [
       "                  ip                       date  \\\n",
       "0      19.239.117.99 2022-08-04 12:57:03.484999   \n",
       "1      61.213.60.141 2022-08-04 12:57:04.738835   \n",
       "2     50.145.132.173 2022-08-04 12:57:04.989693   \n",
       "3     118.15.198.156 2022-08-04 12:57:05.240406   \n",
       "4         9.136.25.9 2022-08-04 12:57:05.491227   \n",
       "..               ...                        ...   \n",
       "115    76.165.10.140 2022-08-04 12:58:01.413406   \n",
       "116    197.75.47.132 2022-08-04 12:58:02.667290   \n",
       "117  172.114.118.212 2022-08-04 12:58:02.918046   \n",
       "118   57.124.232.220 2022-08-04 12:58:03.168756   \n",
       "119  174.253.197.186 2022-08-04 12:58:03.419559   \n",
       "\n",
       "                                  request  resp_code  resp_size  \\\n",
       "0                            /departments        200        455   \n",
       "1                            /departments        200        406   \n",
       "2    /department/team%20sports/categories        200       1753   \n",
       "3                            /departments        200       1117   \n",
       "4                            /departments        200       1762   \n",
       "..                                    ...        ...        ...   \n",
       "115                          /departments        200       1901   \n",
       "116       /department/outdoors/categories        200       1269   \n",
       "117                          /departments        404       2049   \n",
       "118                          /departments        200        938   \n",
       "119                     /add_to_cart/1320        200       1028   \n",
       "\n",
       "                                                    ua  year month dayofmonth  \n",
       "0    Mozilla/5.0 (Windows NT 6.1; WOW64) AppleWebKi...  2022    08         04  \n",
       "1    Mozilla/5.0 (Macintosh; Intel Mac OS X 10_9_3)...  2022    08         04  \n",
       "2    Mozilla/5.0 (Windows NT 6.1; WOW64) AppleWebKi...  2022    08         04  \n",
       "3    Mozilla/5.0 (Windows NT 6.1; WOW64) AppleWebKi...  2022    08         04  \n",
       "4    Mozilla/5.0 (Windows NT 6.1; WOW64) AppleWebKi...  2022    08         04  \n",
       "..                                                 ...   ...   ...        ...  \n",
       "115  Mozilla/5.0 (Macintosh; Intel Mac OS X 10_9_4)...  2022    08         04  \n",
       "116  Mozilla/5.0 (Macintosh; Intel Mac OS X 10_9_3)...  2022    08         04  \n",
       "117  Mozilla/5.0 (Windows NT 6.1; WOW64) AppleWebKi...  2022    08         04  \n",
       "118  Mozilla/5.0 (Macintosh; Intel Mac OS X 10_9_3)...  2022    08         04  \n",
       "119  Mozilla/5.0 (Windows NT 6.1; WOW64; rv:30.0) G...  2022    08         04  \n",
       "\n",
       "[120 rows x 9 columns]"
      ]
     },
     "execution_count": 26,
     "metadata": {},
     "output_type": "execute_result"
    }
   ],
   "source": [
    "df"
   ]
  },
  {
   "cell_type": "code",
   "execution_count": 27,
   "metadata": {},
   "outputs": [],
   "source": [
    "df_grouped = df.groupby(['year', 'month', 'dayofmonth'])"
   ]
  },
  {
   "cell_type": "code",
   "execution_count": 28,
   "metadata": {},
   "outputs": [
    {
     "data": {
      "text/plain": [
       "pandas.core.groupby.generic.DataFrameGroupBy"
      ]
     },
     "execution_count": 28,
     "metadata": {},
     "output_type": "execute_result"
    }
   ],
   "source": [
    "type(df_grouped)"
   ]
  },
  {
   "cell_type": "code",
   "execution_count": 29,
   "metadata": {},
   "outputs": [
    {
     "data": {
      "text/html": [
       "<div>\n",
       "<style scoped>\n",
       "    .dataframe tbody tr th:only-of-type {\n",
       "        vertical-align: middle;\n",
       "    }\n",
       "\n",
       "    .dataframe tbody tr th {\n",
       "        vertical-align: top;\n",
       "    }\n",
       "\n",
       "    .dataframe thead th {\n",
       "        text-align: right;\n",
       "    }\n",
       "</style>\n",
       "<table border=\"1\" class=\"dataframe\">\n",
       "  <thead>\n",
       "    <tr style=\"text-align: right;\">\n",
       "      <th></th>\n",
       "      <th></th>\n",
       "      <th></th>\n",
       "      <th>ip</th>\n",
       "      <th>date</th>\n",
       "      <th>request</th>\n",
       "      <th>resp_code</th>\n",
       "      <th>resp_size</th>\n",
       "      <th>ua</th>\n",
       "    </tr>\n",
       "    <tr>\n",
       "      <th>year</th>\n",
       "      <th>month</th>\n",
       "      <th>dayofmonth</th>\n",
       "      <th></th>\n",
       "      <th></th>\n",
       "      <th></th>\n",
       "      <th></th>\n",
       "      <th></th>\n",
       "      <th></th>\n",
       "    </tr>\n",
       "  </thead>\n",
       "  <tbody>\n",
       "    <tr>\n",
       "      <th>2022</th>\n",
       "      <th>08</th>\n",
       "      <th>04</th>\n",
       "      <td>120</td>\n",
       "      <td>120</td>\n",
       "      <td>120</td>\n",
       "      <td>120</td>\n",
       "      <td>120</td>\n",
       "      <td>120</td>\n",
       "    </tr>\n",
       "  </tbody>\n",
       "</table>\n",
       "</div>"
      ],
      "text/plain": [
       "                        ip  date  request  resp_code  resp_size   ua\n",
       "year month dayofmonth                                               \n",
       "2022 08    04          120   120      120        120        120  120"
      ]
     },
     "execution_count": 29,
     "metadata": {},
     "output_type": "execute_result"
    }
   ],
   "source": [
    "df_grouped.count()"
   ]
  },
  {
   "cell_type": "code",
   "execution_count": 30,
   "metadata": {},
   "outputs": [
    {
     "data": {
      "text/plain": [
       "dict_keys([('2022', '08', '04')])"
      ]
     },
     "execution_count": 30,
     "metadata": {},
     "output_type": "execute_result"
    }
   ],
   "source": [
    "df_grouped.groups.keys()"
   ]
  },
  {
   "cell_type": "code",
   "execution_count": 31,
   "metadata": {},
   "outputs": [],
   "source": [
    "for key in df_grouped.groups.keys():\n",
    "    df_by_key = df_grouped.get_group(key)"
   ]
  },
  {
   "cell_type": "code",
   "execution_count": 32,
   "metadata": {},
   "outputs": [
    {
     "data": {
      "text/html": [
       "<div>\n",
       "<style scoped>\n",
       "    .dataframe tbody tr th:only-of-type {\n",
       "        vertical-align: middle;\n",
       "    }\n",
       "\n",
       "    .dataframe tbody tr th {\n",
       "        vertical-align: top;\n",
       "    }\n",
       "\n",
       "    .dataframe thead th {\n",
       "        text-align: right;\n",
       "    }\n",
       "</style>\n",
       "<table border=\"1\" class=\"dataframe\">\n",
       "  <thead>\n",
       "    <tr style=\"text-align: right;\">\n",
       "      <th></th>\n",
       "      <th>ip</th>\n",
       "      <th>date</th>\n",
       "      <th>request</th>\n",
       "      <th>resp_code</th>\n",
       "      <th>resp_size</th>\n",
       "      <th>ua</th>\n",
       "      <th>year</th>\n",
       "      <th>month</th>\n",
       "      <th>dayofmonth</th>\n",
       "    </tr>\n",
       "  </thead>\n",
       "  <tbody>\n",
       "    <tr>\n",
       "      <th>0</th>\n",
       "      <td>19.239.117.99</td>\n",
       "      <td>2022-08-04 12:57:03.484999</td>\n",
       "      <td>/departments</td>\n",
       "      <td>200</td>\n",
       "      <td>455</td>\n",
       "      <td>Mozilla/5.0 (Windows NT 6.1; WOW64) AppleWebKi...</td>\n",
       "      <td>2022</td>\n",
       "      <td>08</td>\n",
       "      <td>04</td>\n",
       "    </tr>\n",
       "    <tr>\n",
       "      <th>1</th>\n",
       "      <td>61.213.60.141</td>\n",
       "      <td>2022-08-04 12:57:04.738835</td>\n",
       "      <td>/departments</td>\n",
       "      <td>200</td>\n",
       "      <td>406</td>\n",
       "      <td>Mozilla/5.0 (Macintosh; Intel Mac OS X 10_9_3)...</td>\n",
       "      <td>2022</td>\n",
       "      <td>08</td>\n",
       "      <td>04</td>\n",
       "    </tr>\n",
       "    <tr>\n",
       "      <th>2</th>\n",
       "      <td>50.145.132.173</td>\n",
       "      <td>2022-08-04 12:57:04.989693</td>\n",
       "      <td>/department/team%20sports/categories</td>\n",
       "      <td>200</td>\n",
       "      <td>1753</td>\n",
       "      <td>Mozilla/5.0 (Windows NT 6.1; WOW64) AppleWebKi...</td>\n",
       "      <td>2022</td>\n",
       "      <td>08</td>\n",
       "      <td>04</td>\n",
       "    </tr>\n",
       "    <tr>\n",
       "      <th>3</th>\n",
       "      <td>118.15.198.156</td>\n",
       "      <td>2022-08-04 12:57:05.240406</td>\n",
       "      <td>/departments</td>\n",
       "      <td>200</td>\n",
       "      <td>1117</td>\n",
       "      <td>Mozilla/5.0 (Windows NT 6.1; WOW64) AppleWebKi...</td>\n",
       "      <td>2022</td>\n",
       "      <td>08</td>\n",
       "      <td>04</td>\n",
       "    </tr>\n",
       "    <tr>\n",
       "      <th>4</th>\n",
       "      <td>9.136.25.9</td>\n",
       "      <td>2022-08-04 12:57:05.491227</td>\n",
       "      <td>/departments</td>\n",
       "      <td>200</td>\n",
       "      <td>1762</td>\n",
       "      <td>Mozilla/5.0 (Windows NT 6.1; WOW64) AppleWebKi...</td>\n",
       "      <td>2022</td>\n",
       "      <td>08</td>\n",
       "      <td>04</td>\n",
       "    </tr>\n",
       "    <tr>\n",
       "      <th>...</th>\n",
       "      <td>...</td>\n",
       "      <td>...</td>\n",
       "      <td>...</td>\n",
       "      <td>...</td>\n",
       "      <td>...</td>\n",
       "      <td>...</td>\n",
       "      <td>...</td>\n",
       "      <td>...</td>\n",
       "      <td>...</td>\n",
       "    </tr>\n",
       "    <tr>\n",
       "      <th>115</th>\n",
       "      <td>76.165.10.140</td>\n",
       "      <td>2022-08-04 12:58:01.413406</td>\n",
       "      <td>/departments</td>\n",
       "      <td>200</td>\n",
       "      <td>1901</td>\n",
       "      <td>Mozilla/5.0 (Macintosh; Intel Mac OS X 10_9_4)...</td>\n",
       "      <td>2022</td>\n",
       "      <td>08</td>\n",
       "      <td>04</td>\n",
       "    </tr>\n",
       "    <tr>\n",
       "      <th>116</th>\n",
       "      <td>197.75.47.132</td>\n",
       "      <td>2022-08-04 12:58:02.667290</td>\n",
       "      <td>/department/outdoors/categories</td>\n",
       "      <td>200</td>\n",
       "      <td>1269</td>\n",
       "      <td>Mozilla/5.0 (Macintosh; Intel Mac OS X 10_9_3)...</td>\n",
       "      <td>2022</td>\n",
       "      <td>08</td>\n",
       "      <td>04</td>\n",
       "    </tr>\n",
       "    <tr>\n",
       "      <th>117</th>\n",
       "      <td>172.114.118.212</td>\n",
       "      <td>2022-08-04 12:58:02.918046</td>\n",
       "      <td>/departments</td>\n",
       "      <td>404</td>\n",
       "      <td>2049</td>\n",
       "      <td>Mozilla/5.0 (Windows NT 6.1; WOW64) AppleWebKi...</td>\n",
       "      <td>2022</td>\n",
       "      <td>08</td>\n",
       "      <td>04</td>\n",
       "    </tr>\n",
       "    <tr>\n",
       "      <th>118</th>\n",
       "      <td>57.124.232.220</td>\n",
       "      <td>2022-08-04 12:58:03.168756</td>\n",
       "      <td>/departments</td>\n",
       "      <td>200</td>\n",
       "      <td>938</td>\n",
       "      <td>Mozilla/5.0 (Macintosh; Intel Mac OS X 10_9_3)...</td>\n",
       "      <td>2022</td>\n",
       "      <td>08</td>\n",
       "      <td>04</td>\n",
       "    </tr>\n",
       "    <tr>\n",
       "      <th>119</th>\n",
       "      <td>174.253.197.186</td>\n",
       "      <td>2022-08-04 12:58:03.419559</td>\n",
       "      <td>/add_to_cart/1320</td>\n",
       "      <td>200</td>\n",
       "      <td>1028</td>\n",
       "      <td>Mozilla/5.0 (Windows NT 6.1; WOW64; rv:30.0) G...</td>\n",
       "      <td>2022</td>\n",
       "      <td>08</td>\n",
       "      <td>04</td>\n",
       "    </tr>\n",
       "  </tbody>\n",
       "</table>\n",
       "<p>120 rows × 9 columns</p>\n",
       "</div>"
      ],
      "text/plain": [
       "                  ip                       date  \\\n",
       "0      19.239.117.99 2022-08-04 12:57:03.484999   \n",
       "1      61.213.60.141 2022-08-04 12:57:04.738835   \n",
       "2     50.145.132.173 2022-08-04 12:57:04.989693   \n",
       "3     118.15.198.156 2022-08-04 12:57:05.240406   \n",
       "4         9.136.25.9 2022-08-04 12:57:05.491227   \n",
       "..               ...                        ...   \n",
       "115    76.165.10.140 2022-08-04 12:58:01.413406   \n",
       "116    197.75.47.132 2022-08-04 12:58:02.667290   \n",
       "117  172.114.118.212 2022-08-04 12:58:02.918046   \n",
       "118   57.124.232.220 2022-08-04 12:58:03.168756   \n",
       "119  174.253.197.186 2022-08-04 12:58:03.419559   \n",
       "\n",
       "                                  request  resp_code  resp_size  \\\n",
       "0                            /departments        200        455   \n",
       "1                            /departments        200        406   \n",
       "2    /department/team%20sports/categories        200       1753   \n",
       "3                            /departments        200       1117   \n",
       "4                            /departments        200       1762   \n",
       "..                                    ...        ...        ...   \n",
       "115                          /departments        200       1901   \n",
       "116       /department/outdoors/categories        200       1269   \n",
       "117                          /departments        404       2049   \n",
       "118                          /departments        200        938   \n",
       "119                     /add_to_cart/1320        200       1028   \n",
       "\n",
       "                                                    ua  year month dayofmonth  \n",
       "0    Mozilla/5.0 (Windows NT 6.1; WOW64) AppleWebKi...  2022    08         04  \n",
       "1    Mozilla/5.0 (Macintosh; Intel Mac OS X 10_9_3)...  2022    08         04  \n",
       "2    Mozilla/5.0 (Windows NT 6.1; WOW64) AppleWebKi...  2022    08         04  \n",
       "3    Mozilla/5.0 (Windows NT 6.1; WOW64) AppleWebKi...  2022    08         04  \n",
       "4    Mozilla/5.0 (Windows NT 6.1; WOW64) AppleWebKi...  2022    08         04  \n",
       "..                                                 ...   ...   ...        ...  \n",
       "115  Mozilla/5.0 (Macintosh; Intel Mac OS X 10_9_4)...  2022    08         04  \n",
       "116  Mozilla/5.0 (Macintosh; Intel Mac OS X 10_9_3)...  2022    08         04  \n",
       "117  Mozilla/5.0 (Windows NT 6.1; WOW64) AppleWebKi...  2022    08         04  \n",
       "118  Mozilla/5.0 (Macintosh; Intel Mac OS X 10_9_3)...  2022    08         04  \n",
       "119  Mozilla/5.0 (Windows NT 6.1; WOW64; rv:30.0) G...  2022    08         04  \n",
       "\n",
       "[120 rows x 9 columns]"
      ]
     },
     "execution_count": 32,
     "metadata": {},
     "output_type": "execute_result"
    }
   ],
   "source": [
    "df_by_key"
   ]
  },
  {
   "cell_type": "code",
   "execution_count": 33,
   "metadata": {},
   "outputs": [],
   "source": [
    "orig_file_name = 's3://airetail/topics/retail_logs/partition=1/retail_logs+1+0000019680.bin'"
   ]
  },
  {
   "cell_type": "code",
   "execution_count": 36,
   "metadata": {},
   "outputs": [
    {
     "data": {
      "text/plain": [
       "'retail_logs+1+0000019680'"
      ]
     },
     "execution_count": 36,
     "metadata": {},
     "output_type": "execute_result"
    }
   ],
   "source": [
    "orig_file_name.split(\"/\")[-1].split(\".\")[0]"
   ]
  },
  {
   "cell_type": "code",
   "execution_count": 57,
   "metadata": {},
   "outputs": [
    {
     "name": "stdout",
     "output_type": "stream",
     "text": [
      "2022\n",
      "08\n",
      "04\n"
     ]
    }
   ],
   "source": [
    "for key in df_grouped.groups.keys():\n",
    "    year = key[0]\n",
    "    month = key[1]\n",
    "    dayofmonth = key[2]\n",
    "    print(year)\n",
    "    print(month)\n",
    "    print(dayofmonth)"
   ]
  },
  {
   "cell_type": "code",
   "execution_count": 58,
   "metadata": {},
   "outputs": [],
   "source": [
    "for key in df_grouped.groups.keys():\n",
    "    df_by_key = df_grouped.get_group(key).drop(labels=['year', 'month', 'dayofmonth'], axis=1)\n",
    "    year = key[0]\n",
    "    month = key[1]\n",
    "    dayofmonth = key[2]\n",
    "    file_name = f'{orig_file_name.split(\"/\")[-1].split(\".\")[0]}.snappy.parquet'\n",
    "    df_by_key.to_parquet(f's3://airetail/silver/retail_logs/year={year}/month={month}/dayofmonth={dayofmonth}/{file_name}')"
   ]
  },
  {
   "cell_type": "code",
   "execution_count": 59,
   "metadata": {},
   "outputs": [
    {
     "name": "stdout",
     "output_type": "stream",
     "text": [
      "2022-08-09 00:58:35       9965 silver/retail_logs/year=2022/month=08/dayofmonth=04/retail_logs+1+0000019680.snappy.parquet\n"
     ]
    }
   ],
   "source": [
    "!aws s3 ls s3://airetail/silver/retail_logs --recursive"
   ]
  },
  {
   "cell_type": "code",
   "execution_count": 62,
   "metadata": {},
   "outputs": [],
   "source": [
    "df_parquet = pd.read_parquet('s3://airetail/silver/retail_logs/year=2022/month=08/dayofmonth=04/retail_logs+1+0000019680.snappy.parquet')"
   ]
  },
  {
   "cell_type": "code",
   "execution_count": 63,
   "metadata": {},
   "outputs": [
    {
     "data": {
      "text/plain": [
       "Index(['ip', 'date', 'request', 'resp_code', 'resp_size', 'ua'], dtype='object')"
      ]
     },
     "execution_count": 63,
     "metadata": {},
     "output_type": "execute_result"
    }
   ],
   "source": [
    "df_parquet.columns"
   ]
  },
  {
   "cell_type": "code",
   "execution_count": null,
   "metadata": {},
   "outputs": [],
   "source": []
  }
 ],
 "metadata": {
  "kernelspec": {
   "display_name": "Python 3.7.10 64-bit",
   "language": "python",
   "name": "python3"
  },
  "language_info": {
   "codemirror_mode": {
    "name": "ipython",
    "version": 3
   },
   "file_extension": ".py",
   "mimetype": "text/x-python",
   "name": "python",
   "nbconvert_exporter": "python",
   "pygments_lexer": "ipython3",
   "version": "3.7.10"
  },
  "orig_nbformat": 4,
  "vscode": {
   "interpreter": {
    "hash": "31f2aee4e71d21fbe5cf8b01ff0e069b9275f58929596ceb00d14d90e3e16cd6"
   }
  }
 },
 "nbformat": 4,
 "nbformat_minor": 2
}
