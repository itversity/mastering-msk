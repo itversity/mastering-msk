{
 "cells": [
  {
   "cell_type": "markdown",
   "metadata": {},
   "source": [
    "Let us go through the details related to setting up Kafka Client on newly created AWS EC2 Instance for Serverless Kafka setup using AWS Managed Service for Kafka (MSK). \n",
    "\n",
    "We need to setup Java 11, and then Kafka Client. Once Kafka Client is setup we need to ensure it is configued to work with Serverless Kafka setup using AWS MSK."
   ]
  },
  {
   "cell_type": "code",
   "execution_count": null,
   "metadata": {},
   "outputs": [],
   "source": [
    "!sudo yum -y install java-11"
   ]
  },
  {
   "cell_type": "code",
   "execution_count": null,
   "metadata": {},
   "outputs": [],
   "source": [
    "!wget https://archive.apache.org/dist/kafka/2.8.1/kafka_2.12-2.8.1.tgz \\\n",
    "    -O /home/ec2-user/kafka_2.12-2.8.1.tgz"
   ]
  },
  {
   "cell_type": "code",
   "execution_count": null,
   "metadata": {},
   "outputs": [],
   "source": [
    "!ls -ltr /home/ec2-user"
   ]
  },
  {
   "cell_type": "code",
   "execution_count": null,
   "metadata": {},
   "outputs": [],
   "source": [
    "!sudo tar xzf ~/kafka_2.12-2.8.1.tgz -C /opt"
   ]
  },
  {
   "cell_type": "code",
   "execution_count": null,
   "metadata": {},
   "outputs": [],
   "source": [
    "!ls -ltr /opt"
   ]
  },
  {
   "cell_type": "code",
   "execution_count": null,
   "metadata": {},
   "outputs": [],
   "source": [
    "!sudo chown -R $USER:$USER /opt/kafka_2.12-2.8.1"
   ]
  },
  {
   "cell_type": "code",
   "execution_count": null,
   "metadata": {},
   "outputs": [],
   "source": [
    "!sudo ln -s /opt/kafka_2.12-2.8.1 /opt/kafka"
   ]
  },
  {
   "cell_type": "code",
   "execution_count": null,
   "metadata": {},
   "outputs": [],
   "source": [
    "!wget https://github.com/aws/aws-msk-iam-auth/releases/download/v1.1.1/aws-msk-iam-auth-1.1.1-all.jar \\\n",
    "    -O /opt/kafka/libs/aws-msk-iam-auth-1.1.1-all.jar"
   ]
  },
  {
   "cell_type": "code",
   "execution_count": null,
   "metadata": {},
   "outputs": [],
   "source": [
    "!sudo chown $USER:$USER /opt/kafka/libs/aws-msk-iam-auth-1.1.1-all.jar"
   ]
  },
  {
   "cell_type": "code",
   "execution_count": null,
   "metadata": {},
   "outputs": [],
   "source": [
    "!rm ~/kafka_2.12-2.8.1.tgz"
   ]
  },
  {
   "cell_type": "markdown",
   "metadata": {},
   "source": [
    "Now create **client.properties** with the following content under **/opt/kafka/config**. We can use VS Code for the same.\n",
    "\n",
    "```text\n",
    "security.protocol=SASL_SSL\n",
    "sasl.mechanism=AWS_MSK_IAM\n",
    "sasl.jaas.config=software.amazon.msk.auth.iam.IAMLoginModule required;\n",
    "sasl.client.callback.handler.class=software.amazon.msk.auth.iam.IAMClientCallbackHandler\n",
    "```"
   ]
  },
  {
   "cell_type": "code",
   "execution_count": 1,
   "metadata": {},
   "outputs": [
    {
     "name": "stdout",
     "output_type": "stream",
     "text": [
      "env: BS=boot-gwztjpef.c3.kafka-serverless.us-east-1.amazonaws.com:9098\n"
     ]
    }
   ],
   "source": [
    "%env BS=boot-gwztjpef.c3.kafka-serverless.us-east-1.amazonaws.com:9098"
   ]
  },
  {
   "cell_type": "code",
   "execution_count": 2,
   "metadata": {},
   "outputs": [
    {
     "name": "stdout",
     "output_type": "stream",
     "text": [
      "\n"
     ]
    }
   ],
   "source": [
    "!/opt/kafka/bin/kafka-topics.sh \\\n",
    "    --bootstrap-server $BS \\\n",
    "    --command-config /opt/kafka/config/client.properties \\\n",
    "    --list"
   ]
  },
  {
   "cell_type": "code",
   "execution_count": null,
   "metadata": {},
   "outputs": [],
   "source": []
  }
 ],
 "metadata": {
  "kernelspec": {
   "display_name": "Python 3.8.9 64-bit",
   "language": "python",
   "name": "python3"
  },
  "language_info": {
   "codemirror_mode": {
    "name": "ipython",
    "version": 3
   },
   "file_extension": ".py",
   "mimetype": "text/x-python",
   "name": "python",
   "nbconvert_exporter": "python",
   "pygments_lexer": "ipython3",
   "version": "3.7.10"
  },
  "orig_nbformat": 4,
  "vscode": {
   "interpreter": {
    "hash": "31f2aee4e71d21fbe5cf8b01ff0e069b9275f58929596ceb00d14d90e3e16cd6"
   }
  }
 },
 "nbformat": 4,
 "nbformat_minor": 2
}
