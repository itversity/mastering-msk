{
 "cells": [
  {
   "cell_type": "markdown",
   "metadata": {},
   "source": [
    "Let us go ahead and create Kafka Topic by name kafkademo to understand how to produce messages into the Kafka Topic and also how to consume from it.\n",
    "\n",
    "```shell\n",
    "export BS=boot-gwztjpef.c3.kafka-serverless.us-east-1.amazonaws.com:9098\n",
    "\n",
    "/opt/kafka/bin/kafka-topics.sh \\\n",
    "    --bootstrap-server $BS \\\n",
    "    --command-config /opt/kafka/config/client.properties \\\n",
    "    --create \\\n",
    "    --topic kafkademo \\\n",
    "    --partitions 2\n",
    "\n",
    "/opt/kafka/bin/kafka-topics.sh \\\n",
    "    --bootstrap-server $BS \\\n",
    "    --command-config /opt/kafka/config/client.properties \\\n",
    "    --list \\\n",
    "    --topic kafkademo\n",
    "```"
   ]
  },
  {
   "cell_type": "markdown",
   "metadata": {},
   "source": [
    "Producing Messages using `kafka-console-producer`. We will use Terminal for the demo to understand how to produce messages into the Kafka Topic.\n",
    "\n",
    "```shell\n",
    "/opt/kafka/bin/kafka-console-producer.sh \\\n",
    "    --bootstrap-server $BS \\\n",
    "    --producer.config /opt/kafka/config/client.properties \\\n",
    "    --topic kafkademo\n",
    "```"
   ]
  },
  {
   "cell_type": "markdown",
   "metadata": {},
   "source": [
    "Consuming Messages using `kafka-console-producer`. We will use Terminal for the demo to understand how to consume messages from the Kafka Topic.\n",
    "\n",
    "```shell\n",
    "/opt/kafka/bin/kafka-console-consumer.sh \\\n",
    "    --bootstrap-server $BS \\\n",
    "    --consumer.config /opt/kafka/config/client.properties \\\n",
    "    --topic kafkademo \\\n",
    "    --from-beginning\n",
    "```"
   ]
  },
  {
   "cell_type": "markdown",
   "metadata": {},
   "source": []
  }
 ],
 "metadata": {
  "kernelspec": {
   "display_name": "Python 3.7.10 64-bit",
   "language": "python",
   "name": "python3"
  },
  "language_info": {
   "name": "python",
   "version": "3.7.10"
  },
  "orig_nbformat": 4,
  "vscode": {
   "interpreter": {
    "hash": "31f2aee4e71d21fbe5cf8b01ff0e069b9275f58929596ceb00d14d90e3e16cd6"
   }
  }
 },
 "nbformat": 4,
 "nbformat_minor": 2
}
