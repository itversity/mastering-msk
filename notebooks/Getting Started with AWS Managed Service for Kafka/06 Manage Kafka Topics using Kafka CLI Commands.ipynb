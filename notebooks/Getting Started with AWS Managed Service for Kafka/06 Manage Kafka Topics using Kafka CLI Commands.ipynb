{
 "cells": [
  {
   "cell_type": "code",
   "execution_count": 11,
   "metadata": {},
   "outputs": [
    {
     "name": "stdout",
     "output_type": "stream",
     "text": [
      "env: BS=boot-gwztjpef.c3.kafka-serverless.us-east-1.amazonaws.com:9098\n"
     ]
    }
   ],
   "source": [
    "%env BS=boot-gwztjpef.c3.kafka-serverless.us-east-1.amazonaws.com:9098"
   ]
  },
  {
   "cell_type": "code",
   "execution_count": 12,
   "metadata": {},
   "outputs": [
    {
     "name": "stdout",
     "output_type": "stream",
     "text": [
      "boot-gwztjpef.c3.kafka-serverless.us-east-1.amazonaws.com:9098\n"
     ]
    }
   ],
   "source": [
    "!echo $BS"
   ]
  },
  {
   "cell_type": "code",
   "execution_count": 13,
   "metadata": {},
   "outputs": [
    {
     "name": "stdout",
     "output_type": "stream",
     "text": [
      "security.protocol=SASL_SSL\n",
      "sasl.mechanism=AWS_MSK_IAM\n",
      "sasl.jaas.config=software.amazon.msk.auth.iam.IAMLoginModule required;\n",
      "sasl.client.callback.handler.class=software.amazon.msk.auth.iam.IAMClientCallbackHandler"
     ]
    }
   ],
   "source": [
    "!cat /opt/kafka/config/client.properties"
   ]
  },
  {
   "cell_type": "code",
   "execution_count": 14,
   "metadata": {},
   "outputs": [
    {
     "name": "stdout",
     "output_type": "stream",
     "text": [
      "retail_logs\n"
     ]
    }
   ],
   "source": [
    "!/opt/kafka/bin/kafka-topics.sh \\\n",
    "    --bootstrap-server $BS \\\n",
    "    --command-config /opt/kafka/config/client.properties \\\n",
    "    --list"
   ]
  },
  {
   "cell_type": "code",
   "execution_count": 15,
   "metadata": {},
   "outputs": [
    {
     "name": "stdout",
     "output_type": "stream",
     "text": [
      "Created topic kafkademo.\n"
     ]
    }
   ],
   "source": [
    "!/opt/kafka/bin/kafka-topics.sh \\\n",
    "    --bootstrap-server $BS \\\n",
    "    --command-config /opt/kafka/config/client.properties \\\n",
    "    --create \\\n",
    "    --topic kafkademo \\\n",
    "    --partitions 2"
   ]
  },
  {
   "cell_type": "code",
   "execution_count": 16,
   "metadata": {},
   "outputs": [
    {
     "name": "stdout",
     "output_type": "stream",
     "text": [
      "kafkademo\n",
      "retail_logs\n"
     ]
    }
   ],
   "source": [
    "!/opt/kafka/bin/kafka-topics.sh \\\n",
    "    --bootstrap-server $BS \\\n",
    "    --command-config /opt/kafka/config/client.properties \\\n",
    "    --list"
   ]
  },
  {
   "cell_type": "code",
   "execution_count": 17,
   "metadata": {},
   "outputs": [
    {
     "name": "stdout",
     "output_type": "stream",
     "text": [
      "kafkademo\n"
     ]
    }
   ],
   "source": [
    "!/opt/kafka/bin/kafka-topics.sh \\\n",
    "    --bootstrap-server $BS \\\n",
    "    --command-config /opt/kafka/config/client.properties \\\n",
    "    --list \\\n",
    "    --topic kafkademo"
   ]
  },
  {
   "cell_type": "code",
   "execution_count": 19,
   "metadata": {},
   "outputs": [
    {
     "name": "stdout",
     "output_type": "stream",
     "text": [
      "Topic: kafkademo\tTopicId: Vt_adeyORlayg9_lhfnG9g\tPartitionCount: 2\tReplicationFactor: 3\tConfigs: min.insync.replicas=2,segment.bytes=536870912,message.format.version=2.8-IV1,unclean.leader.election.enable=false,retention.bytes=268435456000\n",
      "\tTopic: kafkademo\tPartition: 0\tLeader: 450\tReplicas: 450,466,442\tIsr: 450,466,442\n",
      "\tTopic: kafkademo\tPartition: 1\tLeader: 466\tReplicas: 466,482,474\tIsr: 466,482,474\n"
     ]
    }
   ],
   "source": [
    "!/opt/kafka/bin/kafka-topics.sh \\\n",
    "    --bootstrap-server $BS \\\n",
    "    --command-config /opt/kafka/config/client.properties \\\n",
    "    --describe \\\n",
    "    --topic kafkademo"
   ]
  },
  {
   "cell_type": "code",
   "execution_count": 20,
   "metadata": {},
   "outputs": [],
   "source": [
    "!/opt/kafka/bin/kafka-topics.sh \\\n",
    "    --bootstrap-server $BS \\\n",
    "    --command-config /opt/kafka/config/client.properties \\\n",
    "    --delete \\\n",
    "    --topic kafkademo"
   ]
  },
  {
   "cell_type": "code",
   "execution_count": 21,
   "metadata": {},
   "outputs": [
    {
     "name": "stdout",
     "output_type": "stream",
     "text": [
      "\n"
     ]
    }
   ],
   "source": [
    "!/opt/kafka/bin/kafka-topics.sh \\\n",
    "    --bootstrap-server $BS \\\n",
    "    --command-config /opt/kafka/config/client.properties \\\n",
    "    --list \\\n",
    "    --topic kafkademo"
   ]
  },
  {
   "cell_type": "code",
   "execution_count": null,
   "metadata": {},
   "outputs": [],
   "source": []
  }
 ],
 "metadata": {
  "kernelspec": {
   "display_name": "Python 3.7.10 64-bit",
   "language": "python",
   "name": "python3"
  },
  "language_info": {
   "codemirror_mode": {
    "name": "ipython",
    "version": 3
   },
   "file_extension": ".py",
   "mimetype": "text/x-python",
   "name": "python",
   "nbconvert_exporter": "python",
   "pygments_lexer": "ipython3",
   "version": "3.7.10"
  },
  "orig_nbformat": 4,
  "vscode": {
   "interpreter": {
    "hash": "31f2aee4e71d21fbe5cf8b01ff0e069b9275f58929596ceb00d14d90e3e16cd6"
   }
  }
 },
 "nbformat": 4,
 "nbformat_minor": 2
}
